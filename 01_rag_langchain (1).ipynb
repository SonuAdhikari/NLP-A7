{
  "cells": [
    {
      "cell_type": "markdown",
      "metadata": {
        "id": "-WSoHrDq97uJ"
      },
      "source": [
        "# Natural Language Processing\n",
        "\n",
        "# Retrieval-Augmented generation (RAG)\n",
        "\n",
        "RAG is a technique for augmenting LLM knowledge with additional, often private or real-time, data.\n",
        "\n",
        "LLMs can reason about wide-ranging topics, but their knowledge is limited to the public data up to a specific point in time that they were trained on. If you want to build AI applications that can reason about private data or data introduced after a model’s cutoff date, you need to augment the knowledge of the model with the specific information it needs.\n",
        "\n",
        "<img src=\"../figures/RAG-process.png\" >\n",
        "\n",
        "Introducing `ChakyBot`, an innovative chatbot designed to assist Chaky (the instructor) and TA (Gun) in explaining the lesson of the NLP course to students. Leveraging LangChain technology, ChakyBot excels in retrieving information from documents, ensuring a seamless and efficient learning experience for students engaging with the NLP curriculum.\n",
        "\n",
        "1. Prompt\n",
        "2. Retrieval\n",
        "3. Memory\n",
        "4. Chain"
      ]
    },
    {
      "cell_type": "code",
      "execution_count": 123,
      "metadata": {
        "id": "7LNkdc_o97uL"
      },
      "outputs": [],
      "source": [
        "#langchain library\n",
        "#!pip install langchain==0.0.350\n",
        "#LLM\n",
        "#!pip install accelerate==0.25.0\n",
        "#!pip install transformers==4.36.2\n",
        "#!pip install bitsandbytes==0.41.2\n",
        "#Text Embedding\n",
        "#!pip install sentence-transformers==2.2.2\n",
        "#!pip install InstructorEmbedding==1.0.1\n",
        "#vectorstore\n",
        "#!pip install pymupdf==1.23.8\n",
        "#!pip install faiss-gpu==1.7.2\n",
        "#!pip install faiss-cpu==1.7.4"
      ]
    },
    {
      "cell_type": "code",
      "execution_count": 120,
      "metadata": {
        "colab": {
          "base_uri": "https://localhost:8080/"
        },
        "id": "LD12x03297uN",
        "outputId": "9a8c6ab4-0fe5-4189-d3dd-62afbf37206c"
      },
      "outputs": [
        {
          "data": {
            "text/plain": [
              "device(type='cuda')"
            ]
          },
          "execution_count": 120,
          "metadata": {},
          "output_type": "execute_result"
        }
      ],
      "source": [
        "import os\n",
        "import torch\n",
        "# Set GPU device\n",
        "#os.environ[\"CUDA_VISIBLE_DEVICES\"] = \"1\"\n",
        "\n",
        "#os.environ['http_proxy']  = 'http://192.41.170.23:3128'\n",
        "#os.environ['https_proxy'] = 'http://192.41.170.23:3128'\n",
        "\n",
        "device = torch.device('cuda' if torch.cuda.is_available() else 'cpu')\n",
        "device"
      ]
    },
    {
      "cell_type": "markdown",
      "metadata": {
        "id": "tajDUpHF97uN"
      },
      "source": [
        "## 1. Prompt\n",
        "\n",
        "A set of instructions or input provided by a user to guide the model's response, helping it understand the context and generate relevant and coherent language-based output, such as answering questions, completing sentences, or engaging in a conversation."
      ]
    },
    {
      "cell_type": "code",
      "execution_count": 86,
      "metadata": {
        "colab": {
          "base_uri": "https://localhost:8080/"
        },
        "id": "4jh6xOep97uN",
        "outputId": "b3726123-f375-4463-8ca7-7c6361ade60d"
      },
      "outputs": [
        {
          "data": {
            "text/plain": [
              "PromptTemplate(input_variables=['context', 'question'], template=\"I'm your friendly chatbot named AITBot, here to assist students with any questions they have about Asian Institute of Technology.\\n    If you're curious about AIT, feel free to ask any questions you may have.\\n    Whether it's about AIT,programs and courses it offers, or any other related topic,\\n    I'm here to help you.\\n    Just let me know what you're wondering about, and I'll do my best to guide you through it!\\n    {context}\\n    Question: {question}\\n    Answer:\")"
            ]
          },
          "execution_count": 86,
          "metadata": {},
          "output_type": "execute_result"
        }
      ],
      "source": [
        "from langchain import PromptTemplate\n",
        "\n",
        "prompt_template = \"\"\"\n",
        "    I'm your friendly chatbot named AITBot, here to assist students with any questions they have about Asian Institute of Technology.\n",
        "    If you're curious about AIT, feel free to ask any questions you may have.\n",
        "    Whether it's about AIT,programs and courses it offers, or any other related topic,\n",
        "    I'm here to help you.\n",
        "    Just let me know what you're wondering about, and I'll do my best to guide you through it!\n",
        "    {context}\n",
        "    Question: {question}\n",
        "    Answer:\n",
        "    \"\"\".strip()\n",
        "\n",
        "PROMPT = PromptTemplate.from_template(\n",
        "    template = prompt_template\n",
        ")\n",
        "\n",
        "PROMPT\n",
        "#using str.format\n",
        "#The placeholder is defined using curly brackets: {} {}"
      ]
    },
    {
      "cell_type": "code",
      "execution_count": 85,
      "metadata": {
        "colab": {
          "base_uri": "https://localhost:8080/",
          "height": 88
        },
        "id": "gqBR-yhh97uN",
        "outputId": "fec59afe-e382-4068-8c73-72fa67144481"
      },
      "outputs": [
        {
          "data": {
            "application/vnd.google.colaboratory.intrinsic+json": {
              "type": "string"
            },
            "text/plain": [
              "\"I'm your friendly chatbot named AITBot, here to assist students with any questions they have about Asian Institute of Technology.\\n    If you're curious about AIT, feel free to ask any questions you may have.\\n    Whether it's about AIT,programs and courses it offers, or any other related topic,\\n    I'm here to help you.\\n    Just let me know what you're wondering about, and I'll do my best to guide you through it!\\n    The Asian Institute of Technology (AIT) is an international English-speaking postgraduate institution\\n    Question: What is ait?\\n    Answer:\""
            ]
          },
          "execution_count": 85,
          "metadata": {},
          "output_type": "execute_result"
        }
      ],
      "source": [
        "PROMPT.format(\n",
        "    context = \"The Asian Institute of Technology (AIT) is an international English-speaking postgraduate institution\",\n",
        "    question = \"What is ait?\"\n",
        ")"
      ]
    },
    {
      "cell_type": "markdown",
      "metadata": {
        "id": "ys6OFB1p97uO"
      },
      "source": [
        "Note : [How to improve prompting (Zero-shot, Few-shot, Chain-of-Thought, etc.](https://github.com/chaklam-silpasuwanchai/Natural-Language-Processing/blob/main/Code/05%20-%20RAG/advance/cot-tot-prompting.ipynb)"
      ]
    },
    {
      "cell_type": "markdown",
      "metadata": {
        "id": "Jzzv14m197uO"
      },
      "source": [
        "## 2. Retrieval\n",
        "\n",
        "1. `Document loaders` : Load documents from many different sources (HTML, PDF, code).\n",
        "2. `Document transformers` : One of the essential steps in document retrieval is breaking down a large document into smaller, relevant chunks to enhance the retrieval process.\n",
        "3. `Text embedding models` : Embeddings capture the semantic meaning of the text, allowing you to quickly and efficiently find other pieces of text that are similar.\n",
        "4. `Vector stores`: there has emerged a need for databases to support efficient storage and searching of these embeddings.\n",
        "5. `Retrievers` : Once the data is in the database, you still need to retrieve it."
      ]
    },
    {
      "cell_type": "markdown",
      "metadata": {
        "id": "HntihgWZ97uO"
      },
      "source": [
        "### 2.1 Document Loaders\n",
        "Use document loaders to load data from a source as Document's. A Document is a piece of text and associated metadata. For example, there are document loaders for loading a simple .txt file, for loading the text contents of any web page, or even for loading a transcript of a YouTube video.\n",
        "\n",
        "[PDF Loader](https://python.langchain.com/docs/modules/data_connection/document_loaders/pdf)\n",
        "\n",
        "[Download Document](https://web.stanford.edu/~jurafsky/slp3/)"
      ]
    },
    {
      "cell_type": "code",
      "execution_count": 87,
      "metadata": {
        "id": "h8ya3b7797uO"
      },
      "outputs": [],
      "source": [
        "from langchain.document_loaders import PyMuPDFLoader\n",
        "\n",
        "nlp_docs = '/content/AIT-BROCHURE.pdf'\n",
        "\n",
        "loader = PyMuPDFLoader(nlp_docs)\n",
        "documents = loader.load()"
      ]
    },
    {
      "cell_type": "code",
      "execution_count": null,
      "metadata": {
        "id": "cCgZfOhl97uP"
      },
      "outputs": [],
      "source": []
    },
    {
      "cell_type": "code",
      "execution_count": null,
      "metadata": {
        "id": "NIv5ZuWq97uP"
      },
      "outputs": [],
      "source": [
        "# documents"
      ]
    },
    {
      "cell_type": "code",
      "execution_count": 88,
      "metadata": {
        "colab": {
          "base_uri": "https://localhost:8080/"
        },
        "id": "x612PI0y97uP",
        "outputId": "46e17aa5-91fb-48b8-8961-9ac00831266a"
      },
      "outputs": [
        {
          "data": {
            "text/plain": [
              "2"
            ]
          },
          "execution_count": 88,
          "metadata": {},
          "output_type": "execute_result"
        }
      ],
      "source": [
        "len(documents)"
      ]
    },
    {
      "cell_type": "code",
      "execution_count": 89,
      "metadata": {
        "colab": {
          "base_uri": "https://localhost:8080/"
        },
        "id": "Pn1UGnF297uP",
        "outputId": "a39bc258-9ad8-4a9d-f9e4-4060a444ed40"
      },
      "outputs": [
        {
          "data": {
            "text/plain": [
              "Document(page_content='Department of Food, \\nAgriculture and Bioresources\\nAgribusiness Management \\nAgricultural Systems and \\nEngineering \\nAquaculture and Aquatic \\nResources Management \\nFood Engineering and \\nBioprocess Technology \\nFood Innovation, Nutrition and \\nHealth\\nS T U DY  O P T I O N S  A T  A I T\\nMaster’s and PhD Degree Programs\\nAvailable in many fields of specializations across its \\nthree Schools, covering various aspects of techno-\\nlogy, social developments, and management. Sev-\\neral new degree programs are designed to address \\nemerging global challenges and to respond to cur-\\nrent demands of the workforce. \\nFlexible Degree Options\\nNew alternative to traditional “On-campus Degree \\nOptions”. Students can do many courses online via \\nAIT’s Hybrid Modes of Instruction, with an option of \\nflexible payment: course-by-course. The minimum \\nenrollment is two courses per semester – ideal for those \\nnot wanting to take too much time away from career, \\nor those wanting to work and study at the same time. \\nOne-Year Master’s Programs\\nProviding students with ‘coursework-only’ option for \\nhigher education to support career advancement. \\nIt is offered in parallel to our conventional two-year \\nmaster’s programs – ideal for those not wanting to \\ntake much time away from career.\\nProfessional Master’s Programs\\nUnique educational offering for working professionals, \\nbuilt on the experience of professionals in specific \\ndomains. The curriculum is practice-oriented, based \\non conceptually rigorous models and frameworks – \\nwith delivery mode adapted to the needs. Graduates \\nhave benefited immensely through this international \\nlearning experience. \\nU N I V E R S I T I E S\\n• Beijing Institute of Technology\\n• Beijing Normal University\\n• Brunel University London\\n• Colorado State University \\n• IHE Delft Institute for Water Education\\n• Koc University\\n• Korea Advanced Institute of Science and \\nTechnology\\n• Kyoto University\\n• Lomonosov Moscow State University\\n• National Taiwan University\\n• Shanghai Ocean University \\n• Tallinn University of Technology\\n• Technical University of Munich \\n• Tsinghua University\\n• University of Alberta\\n• University of Iowa\\n• University of Oulu\\n• University of Science and Technology of China\\n• University of Strathclyde\\n• University of Tokyo\\n• University of Wollongong \\n• Vilnius Gediminas Technical University\\n• and more …\\nE N T E R P R I S E S , N G O s \\na n d   G O V E R N M E N T S\\n• Asian Development Bank \\n• Bangchak Corporation Pub Co., Ltd.\\n• Betagro Pub Co., Ltd.\\n• Bill and Melinda Gates Foundation\\n• China Scholarship Council \\n• Computer & Structure Inc.\\n• DeepRock (Vanke), Shenzhen \\n• Dorabot, Shenzhen\\n• ERASMUS+ / European Union\\n• German Academic Exchange Service (DAAD)\\n• Ministry of Foreign Affairs, Government of Japan\\n• National Science and Technology  \\nDevelopment Agency \\n• Royal Thai Government \\n• Siam Cement Group Pub Co., Ltd.\\n• Siam Commercial Bank Pub Co., Ltd.\\n• TEAM Consulting Engineering and  \\nManagement Pub Co., Ltd.\\n• Thai Pipe Industry Co., Ltd.\\n• United Nations Economic and Social  \\nCommission for Asia and the Pacific\\n• United States Agency for International Development \\n• World Bank\\n• and more …\\nP A R T N E R S  \\nA B O U T\\nA I T\\nThe Asian Institute of Technology (AIT) is an \\ninternational English-speaking postgraduate \\ninstitution, providing engineering, environment, \\nand management education and research, \\nfocusing on Sustainability and Social Impact \\nissues. Our current strategic themed areas \\nare: Climate Change; Smart Communities; \\nFood- Energy-Water; Infrastr ucture; and \\nTechnology, Policy and Society. AIT’s rigorous \\nacademic, research, and outreach programs \\nprepare graduates for professional success and \\nleadership roles in Asia and beyond. \\nFounded in 1959, AIT offers students the \\nopportunity to study at an institution in Asia \\nwhich possesses a global reputation. AIT stresses \\nits international connections, its injection of \\ninnovation into research and teaching, its \\nengagement with public and private sectors, \\nand its nurturing of entrepreneurship. AIT \\ncontinues to fulfill its capacity-building role \\nand has oriented its education and research \\nto support the United Nations Sustainable \\nDevelopment Goals (SDGs). The institute \\nemphasizes experiential learning through \\ninternships and exchange programs with \\nflexible delivery, incorporating the Hybrid Mode \\nof Instruction with residential learning. Sitting \\non a beautiful green campus just north of \\nBangkok, Thailand, AIT operates as a dynamic \\nmulticultural community with a cosmopolitan \\napproach to living and learning, mixing students \\nand faculty and staff from around the world. \\nToday, AIT’s inter nationally recognized \\nengineering, environment, and management \\ngraduates are highly sought after by employers \\ni n thei r home count r y and el sew he re. \\nAcross many walks of life, AIT alumni have \\ndistinguished themselves as CEO’s of private \\nand state enterprises, as business owners, as \\nwell-respected researchers and faculty, and as \\nsenior university and government officials.  \\nSCHOOL OF \\nENGINEERING & \\nTECHNOLOGY\\n(SET)\\nA C A D E M I C   P R O G R A M S\\nSCHOOL \\nOF \\nENVIRONMENT, \\nRESOURCES & \\nDEVELOPMENT\\n(SERD)\\nSCHOOL OF \\nMANAGEMENT\\n(SOM)\\nDepartment of Energy, \\nEnvironment and Climate \\nChange\\nClimate Change and \\nSustainable Development \\nEnvironmental Engineering and \\nManagement \\nMarine Plastics Abatement \\nRegenerative Sanitation \\nSustainable Energy Transition\\nDepartment of Development  \\nand Sustainability\\nDevelopment and Sustainability \\nGender and Development \\nStudies \\nNatural Resources Management \\nDevelopment Planning \\nManagement and Innovation \\nUrban Innovation and \\nSustainability \\nUrban Sustainability Planning \\nand Design \\nSociety and Environmental \\nGovernance \\nDepartment of Civil and \\nInfrastructure Engineering\\nConstruction Engineering and \\nInfrastructure Management \\nGeotechnical and Earth \\nResources Engineering \\nStructural Engineering \\nTransportation Engineering \\nWater Engineering and \\nManagement \\nDepartment of Information \\nand Communication \\nTechnologies \\nComputer Science \\nInformation Management \\nInformation and \\nCommunications Technologies \\nTelecommunications \\nRemote Sensing and \\nGeographic Information \\nSystems \\nData Science and Artificial \\nIntelligence \\nInternet of Things (IoT) Systems \\nEngineering\\nDepartment of Industrial \\nSystems Engineering\\nMechatronics\\nMicroelectronics and \\nEmbedded Systems \\nIndustrial and Manufacturing \\nEngineering \\nBio-Nano Materials Science \\nand Engineering\\nBusiness Administration \\nMarketing\\nFinance\\nChange & Innovation\\nBusiness Risk and \\nResilience \\nBusiness Analytics and \\nDigital Transformation \\nInternational Finance\\nBanking and Finance \\nUnified Programs \\nEarning two degrees – Bachelor from Partner Univer-\\nsity and Master from AIT, through this ‘fast-track’ and \\ncost-efficient collaborative program, using summer \\nholidays in the study program as inter-semester. Stu-\\ndents have an opportunity to work on a Bachelor’s \\nDegree Final-Year Project at AIT, thereby saving at \\nleast one semester of study to obtain two degrees. \\nCapacity-Building PhD Partnership \\nPrograms\\nProviding human resource capacity development \\nfor non-PhD faculty and staff of other partner higher \\neducation institutions, enhancing institutional ca-\\npacities and strengthening academic communities \\nglobally. The student can pursue a regular in-person \\nDoctoral program or a program combining resid-\\nence education with flexible online delivery, through \\ninnovative Hybrid Modes of Instruction.  \\nDual Degree Programs\\nDual degree programs with international peer in-\\nstitutions allow students to study in two approved \\ndegree programs at the same time and complete \\nthe requirements of both. These programs provide \\nacademic enrichment and international mobility for \\nstudents studying in programs in combination with \\npartner universities around the world.\\nINTER-SCHOOL \\nPROGRAMS\\n \\n Open Master of \\nEngineering/Science \\nin Interdisciplinary \\nStudies (All Schools)\\n \\n Disaster Preparedness, \\nMitigation and \\nManagement  \\n(SET & SERD)\\n \\n Urban Water \\nEngineering and \\nManagement  \\n(SET & SERD)\\n \\n Social Business and \\nEntrepreneurship \\n(SERD & SOM)\\n \\n Water Security and \\nGlobal Change  \\n(SET & SERD) \\nDegrees Offered: Masters, Doctoral, Master of Philosophy, One Year Masters and Professional Masters\\n', metadata={'source': '/content/AIT-BROCHURE.pdf', 'file_path': '/content/AIT-BROCHURE.pdf', 'page': 1, 'total_pages': 2, 'format': 'PDF 1.4', 'title': '', 'author': '', 'subject': '', 'keywords': '', 'creator': 'Adobe InDesign CS5.5 (7.5)', 'producer': 'macOS Version 11.6 (Build 20G165) Quartz PDFContext', 'creationDate': \"D:20211117094024Z00'00'\", 'modDate': \"D:20211117094024Z00'00'\", 'trapped': ''})"
            ]
          },
          "execution_count": 89,
          "metadata": {},
          "output_type": "execute_result"
        }
      ],
      "source": [
        "documents[1]"
      ]
    },
    {
      "cell_type": "markdown",
      "metadata": {
        "id": "GJTeQrQn97uP"
      },
      "source": [
        "### 2.2 Document Transformers\n",
        "\n",
        "This text splitter is the recommended one for generic text. It is parameterized by a list of characters. It tries to split on them in order until the chunks are small enough"
      ]
    },
    {
      "cell_type": "code",
      "execution_count": 90,
      "metadata": {
        "id": "ea9sECYE97uQ"
      },
      "outputs": [],
      "source": [
        "from langchain.text_splitter import RecursiveCharacterTextSplitter\n",
        "\n",
        "text_splitter = RecursiveCharacterTextSplitter(\n",
        "    chunk_size = 700,\n",
        "    chunk_overlap = 100\n",
        ")\n",
        "\n",
        "doc = text_splitter.split_documents(documents)"
      ]
    },
    {
      "cell_type": "code",
      "execution_count": 91,
      "metadata": {
        "colab": {
          "base_uri": "https://localhost:8080/"
        },
        "id": "EKPzXrLZ97uQ",
        "outputId": "77660d0d-3fee-45b2-95ad-9a4dcca62fab"
      },
      "outputs": [
        {
          "data": {
            "text/plain": [
              "Document(page_content='Regional Resource Center for Asia \\nand Pacific \\n--Advancement of Region’s environment \\nand sustainable development goals \\nthrough research and capacity building\\nBelt & Road Research Center \\n--Research and studies in sustainability \\nissues of the Belt and Road region\\nInternet Education and Research \\nLaboratory \\n--Development, training, and education \\nprograms related to internet development \\nand IT topics\\nAIT Artificial Intelligence\\nTechnology Center\\n- - R e s e a r c h  a n d  d eve l o p m e n t  t o \\nincorporate AI into AIT programs and its \\napplication to real-world problems \\nYunus Center at AIT\\n- - E nte r p r i s e  s o l u t i o n s fo r  S D G s &', metadata={'source': '/content/AIT-BROCHURE.pdf', 'file_path': '/content/AIT-BROCHURE.pdf', 'page': 0, 'total_pages': 2, 'format': 'PDF 1.4', 'title': '', 'author': '', 'subject': '', 'keywords': '', 'creator': 'Adobe InDesign CS5.5 (7.5)', 'producer': 'macOS Version 11.6 (Build 20G165) Quartz PDFContext', 'creationDate': \"D:20211117094024Z00'00'\", 'modDate': \"D:20211117094024Z00'00'\", 'trapped': ''})"
            ]
          },
          "execution_count": 91,
          "metadata": {},
          "output_type": "execute_result"
        }
      ],
      "source": [
        "doc[1]"
      ]
    },
    {
      "cell_type": "code",
      "execution_count": 92,
      "metadata": {
        "colab": {
          "base_uri": "https://localhost:8080/"
        },
        "id": "czoSAawi97uQ",
        "outputId": "eb5b433e-d01f-441c-fe57-d3f3819d151f"
      },
      "outputs": [
        {
          "data": {
            "text/plain": [
              "25"
            ]
          },
          "execution_count": 92,
          "metadata": {},
          "output_type": "execute_result"
        }
      ],
      "source": [
        "len(doc)"
      ]
    },
    {
      "cell_type": "markdown",
      "metadata": {
        "id": "-6uEJkn997uQ"
      },
      "source": [
        "### 2.3 Text Embedding Models\n",
        "Embeddings create a vector representation of a piece of text. This is useful because it means we can think about text in the vector space, and do things like semantic search where we look for pieces of text that are most similar in the vector space.\n",
        "\n",
        "*Note* Instructor Model : [Huggingface](gingface.co/hkunlp/instructor-base) | [Paper](https://arxiv.org/abs/2212.09741)"
      ]
    },
    {
      "cell_type": "code",
      "execution_count": 93,
      "metadata": {
        "colab": {
          "base_uri": "https://localhost:8080/"
        },
        "id": "cdwwk-tgZOGm",
        "outputId": "385f3250-8213-4685-80f5-82b2a67e7123"
      },
      "outputs": [
        {
          "name": "stdout",
          "output_type": "stream",
          "text": [
            "load INSTRUCTOR_Transformer\n",
            "max_seq_length  512\n"
          ]
        }
      ],
      "source": [
        "import torch\n",
        "from langchain_community.embeddings import HuggingFaceInstructEmbeddings\n",
        "\n",
        "# Define the device (CPU or CUDA GPU)\n",
        "device = torch.device(\"cuda\" if torch.cuda.is_available() else \"cpu\")\n",
        "\n",
        "model_name = 'hkunlp/instructor-base'\n",
        "\n",
        "embedding_model = HuggingFaceInstructEmbeddings(\n",
        "    model_name=model_name,\n",
        "    model_kwargs={\"device\": device}\n",
        ")\n"
      ]
    },
    {
      "cell_type": "markdown",
      "metadata": {
        "id": "BJiwxNTK97uQ"
      },
      "source": [
        "### 2.4 Vector Stores\n",
        "\n",
        "One of the most common ways to store and search over unstructured data is to embed it and store the resulting embedding vectors, and then at query time to embed the unstructured query and retrieve the embedding vectors that are 'most similar' to the embedded query. A vector store takes care of storing embedded data and performing vector search for you."
      ]
    },
    {
      "cell_type": "code",
      "execution_count": 94,
      "metadata": {
        "id": "xshEAV1s97uQ"
      },
      "outputs": [],
      "source": [
        "#locate vectorstore\n",
        "vector_path = '../vector-store'\n",
        "if not os.path.exists(vector_path):\n",
        "    os.makedirs(vector_path)\n",
        "    print('create path done')"
      ]
    },
    {
      "cell_type": "code",
      "execution_count": 95,
      "metadata": {
        "id": "XQEfRCfc97uQ"
      },
      "outputs": [],
      "source": [
        "#save vector locally\n",
        "from langchain.vectorstores import FAISS\n",
        "\n",
        "vectordb = FAISS.from_documents(\n",
        "    documents = doc,\n",
        "    embedding = embedding_model\n",
        ")\n",
        "\n",
        "db_file_name = 'nlp_stanford'\n",
        "\n",
        "vectordb.save_local(\n",
        "    folder_path = os.path.join(vector_path, db_file_name),\n",
        "    index_name = 'nlp' #default index\n",
        ")"
      ]
    },
    {
      "cell_type": "markdown",
      "metadata": {
        "id": "QGtBbXR897uQ"
      },
      "source": [
        "### 2.5 retrievers\n",
        "A retriever is an interface that returns documents given an unstructured query. It is more general than a vector store. A retriever does not need to be able to store documents, only to return (or retrieve) them. Vector stores can be used as the backbone of a retriever, but there are other types of retrievers as well."
      ]
    },
    {
      "cell_type": "code",
      "execution_count": 96,
      "metadata": {
        "id": "eiCac03-97uR"
      },
      "outputs": [],
      "source": [
        "#calling vector from local\n",
        "vector_path = '../vector-store'\n",
        "db_file_name = 'nlp_stanford'\n",
        "\n",
        "from langchain.vectorstores import FAISS\n",
        "\n",
        "vectordb = FAISS.load_local(\n",
        "    folder_path = os.path.join(vector_path, db_file_name),\n",
        "    embeddings = embedding_model,\n",
        "    index_name = 'nlp' #default index\n",
        ")"
      ]
    },
    {
      "cell_type": "code",
      "execution_count": 97,
      "metadata": {
        "id": "AzHXWsZY97uR"
      },
      "outputs": [],
      "source": [
        "#ready to use\n",
        "retriever = vectordb.as_retriever()"
      ]
    },
    {
      "cell_type": "code",
      "execution_count": 100,
      "metadata": {
        "colab": {
          "base_uri": "https://localhost:8080/"
        },
        "id": "ASKiV6uf97uR",
        "outputId": "0a076382-a12f-4d9c-efad-cb816ccac1e0"
      },
      "outputs": [
        {
          "data": {
            "text/plain": [
              "[Document(page_content='AIT offers an opportunity to all students \\nenrolling in Master’s degree programs \\nto take internships in national and \\nmultinational enterprises as a part of \\nthe academic curriculum. The internship \\ncarries 12 credits and duration can \\nrange from 4 to 6 months. The internship \\nwork generally relates to the academic \\nprogram and the research area of the \\nstudents, and includes student-reports \\non the work done during the internship. \\nThis provides the students practical \\nexperiences, exposure, networking and \\njob placement opportunities in future.\\nMinor \\nSeveral programs at AIT also offer minors. \\nA minor will complement the knowledge \\nacquired in the major program and can', metadata={'source': '/content/AIT-BROCHURE.pdf', 'file_path': '/content/AIT-BROCHURE.pdf', 'page': 0, 'total_pages': 2, 'format': 'PDF 1.4', 'title': '', 'author': '', 'subject': '', 'keywords': '', 'creator': 'Adobe InDesign CS5.5 (7.5)', 'producer': 'macOS Version 11.6 (Build 20G165) Quartz PDFContext', 'creationDate': \"D:20211117094024Z00'00'\", 'modDate': \"D:20211117094024Z00'00'\", 'trapped': ''}),\n",
              " Document(page_content='Apart from academic programs in three \\nAIT Schools, these Outreach Centers are \\nthe connectors for AIT’s education and re-\\nsearch outreach with industry and society.\\nAIT Extension\\n--Executive education, lifelong learning, skill \\ndevelopment through short-courses, trainings, \\nworkshops, and seminars\\nAIT Solutions\\n- - Innovative consulting/solutions in \\nengineering, technology, environment, \\ninfrastructure, education and management\\nGeoinformatics Center \\n--Consulting and capacity building in \\napplication of Remote Sensing and \\nGeoinformatics in agriculture, disaster risk \\nmanagement, and environment\\nRegional Resource Center for Asia \\nand Pacific \\n--Advancement of Region’s environment', metadata={'source': '/content/AIT-BROCHURE.pdf', 'file_path': '/content/AIT-BROCHURE.pdf', 'page': 0, 'total_pages': 2, 'format': 'PDF 1.4', 'title': '', 'author': '', 'subject': '', 'keywords': '', 'creator': 'Adobe InDesign CS5.5 (7.5)', 'producer': 'macOS Version 11.6 (Build 20G165) Quartz PDFContext', 'creationDate': \"D:20211117094024Z00'00'\", 'modDate': \"D:20211117094024Z00'00'\", 'trapped': ''}),\n",
              " Document(page_content='academic, research, and outreach programs \\nprepare graduates for professional success and \\nleadership roles in Asia and beyond. \\nFounded in 1959, AIT offers students the \\nopportunity to study at an institution in Asia \\nwhich possesses a global reputation. AIT stresses \\nits international connections, its injection of \\ninnovation into research and teaching, its \\nengagement with public and private sectors, \\nand its nurturing of entrepreneurship. AIT \\ncontinues to fulfill its capacity-building role \\nand has oriented its education and research \\nto support the United Nations Sustainable \\nDevelopment Goals (SDGs). The institute \\nemphasizes experiential learning through', metadata={'source': '/content/AIT-BROCHURE.pdf', 'file_path': '/content/AIT-BROCHURE.pdf', 'page': 1, 'total_pages': 2, 'format': 'PDF 1.4', 'title': '', 'author': '', 'subject': '', 'keywords': '', 'creator': 'Adobe InDesign CS5.5 (7.5)', 'producer': 'macOS Version 11.6 (Build 20G165) Quartz PDFContext', 'creationDate': \"D:20211117094024Z00'00'\", 'modDate': \"D:20211117094024Z00'00'\", 'trapped': ''}),\n",
              " Document(page_content='O P P O R T U N I T I E S\\nStudent Exchange Program\\nStudent Exchange Program offers an \\nopportunity for AIT students to learn inside \\nand outside classrooms in a partnering  \\nworld-class university. Students in this program \\nwill cultivate academic knowledge, transversal \\nskills, and  intercultural communication, and will \\nalso expand their personal and professional \\nnetworks. The duration period of this program \\nis one semester. Students are encouraged to \\ntransfer 6-12 credits of courses taken at the \\nexchange partner. Exchange scholarships are \\nalso available but are competitive. \\nInternship Program\\nAIT offers an opportunity to all students \\nenrolling in Master’s degree programs', metadata={'source': '/content/AIT-BROCHURE.pdf', 'file_path': '/content/AIT-BROCHURE.pdf', 'page': 0, 'total_pages': 2, 'format': 'PDF 1.4', 'title': '', 'author': '', 'subject': '', 'keywords': '', 'creator': 'Adobe InDesign CS5.5 (7.5)', 'producer': 'macOS Version 11.6 (Build 20G165) Quartz PDFContext', 'creationDate': \"D:20211117094024Z00'00'\", 'modDate': \"D:20211117094024Z00'00'\", 'trapped': ''})]"
            ]
          },
          "execution_count": 100,
          "metadata": {},
          "output_type": "execute_result"
        }
      ],
      "source": [
        "retriever.get_relevant_documents(\"What are the courses at AIT?\")"
      ]
    },
    {
      "cell_type": "code",
      "execution_count": 101,
      "metadata": {
        "colab": {
          "base_uri": "https://localhost:8080/"
        },
        "id": "djxVCdnU97uR",
        "outputId": "b11d3169-de85-4c9e-ed17-eb32d3290451"
      },
      "outputs": [
        {
          "data": {
            "text/plain": [
              "[Document(page_content='Apart from academic programs in three \\nAIT Schools, these Outreach Centers are \\nthe connectors for AIT’s education and re-\\nsearch outreach with industry and society.\\nAIT Extension\\n--Executive education, lifelong learning, skill \\ndevelopment through short-courses, trainings, \\nworkshops, and seminars\\nAIT Solutions\\n- - Innovative consulting/solutions in \\nengineering, technology, environment, \\ninfrastructure, education and management\\nGeoinformatics Center \\n--Consulting and capacity building in \\napplication of Remote Sensing and \\nGeoinformatics in agriculture, disaster risk \\nmanagement, and environment\\nRegional Resource Center for Asia \\nand Pacific \\n--Advancement of Region’s environment', metadata={'source': '/content/AIT-BROCHURE.pdf', 'file_path': '/content/AIT-BROCHURE.pdf', 'page': 0, 'total_pages': 2, 'format': 'PDF 1.4', 'title': '', 'author': '', 'subject': '', 'keywords': '', 'creator': 'Adobe InDesign CS5.5 (7.5)', 'producer': 'macOS Version 11.6 (Build 20G165) Quartz PDFContext', 'creationDate': \"D:20211117094024Z00'00'\", 'modDate': \"D:20211117094024Z00'00'\", 'trapped': ''}),\n",
              " Document(page_content='• United Nations Economic and Social  \\nCommission for Asia and the Pacific\\n• United States Agency for International Development \\n• World Bank\\n• and more …\\nP A R T N E R S  \\nA B O U T\\nA I T\\nThe Asian Institute of Technology (AIT) is an \\ninternational English-speaking postgraduate \\ninstitution, providing engineering, environment, \\nand management education and research, \\nfocusing on Sustainability and Social Impact \\nissues. Our current strategic themed areas \\nare: Climate Change; Smart Communities; \\nFood- Energy-Water; Infrastr ucture; and \\nTechnology, Policy and Society. AIT’s rigorous \\nacademic, research, and outreach programs \\nprepare graduates for professional success and', metadata={'source': '/content/AIT-BROCHURE.pdf', 'file_path': '/content/AIT-BROCHURE.pdf', 'page': 1, 'total_pages': 2, 'format': 'PDF 1.4', 'title': '', 'author': '', 'subject': '', 'keywords': '', 'creator': 'Adobe InDesign CS5.5 (7.5)', 'producer': 'macOS Version 11.6 (Build 20G165) Quartz PDFContext', 'creationDate': \"D:20211117094024Z00'00'\", 'modDate': \"D:20211117094024Z00'00'\", 'trapped': ''}),\n",
              " Document(page_content='academic, research, and outreach programs \\nprepare graduates for professional success and \\nleadership roles in Asia and beyond. \\nFounded in 1959, AIT offers students the \\nopportunity to study at an institution in Asia \\nwhich possesses a global reputation. AIT stresses \\nits international connections, its injection of \\ninnovation into research and teaching, its \\nengagement with public and private sectors, \\nand its nurturing of entrepreneurship. AIT \\ncontinues to fulfill its capacity-building role \\nand has oriented its education and research \\nto support the United Nations Sustainable \\nDevelopment Goals (SDGs). The institute \\nemphasizes experiential learning through', metadata={'source': '/content/AIT-BROCHURE.pdf', 'file_path': '/content/AIT-BROCHURE.pdf', 'page': 1, 'total_pages': 2, 'format': 'PDF 1.4', 'title': '', 'author': '', 'subject': '', 'keywords': '', 'creator': 'Adobe InDesign CS5.5 (7.5)', 'producer': 'macOS Version 11.6 (Build 20G165) Quartz PDFContext', 'creationDate': \"D:20211117094024Z00'00'\", 'modDate': \"D:20211117094024Z00'00'\", 'trapped': ''}),\n",
              " Document(page_content='Yunus Center at AIT\\n- - E nte r p r i s e  s o l u t i o n s fo r  S D G s & \\ntechnologies to alleviate poverty; member \\nof global Yunus network\\nAIT Center Vietnam\\n- -Provisions of academic programs, \\ntraining, and consulting in Vietnam\\nO U T R E A C H\\nC E N T E R S\\nMr. Chaiwat Kovavisarash \\n(Class of 1991)\\nCurrent Position \\nCEO, President & Director, Bangchak Corporation \\nPublic Company Limited, Thailand\\nAIT opened up my mind exposing me to in-\\nternational surroundings and transforming \\nme to be a mature and lifelong learning \\nperson. It was this memorable 20-month \\nprocess that has taken me thus far.\\nD r.  B i n d a  P a n d e y \\n(Class of 2002)\\nCurrent Position', metadata={'source': '/content/AIT-BROCHURE.pdf', 'file_path': '/content/AIT-BROCHURE.pdf', 'page': 0, 'total_pages': 2, 'format': 'PDF 1.4', 'title': '', 'author': '', 'subject': '', 'keywords': '', 'creator': 'Adobe InDesign CS5.5 (7.5)', 'producer': 'macOS Version 11.6 (Build 20G165) Quartz PDFContext', 'creationDate': \"D:20211117094024Z00'00'\", 'modDate': \"D:20211117094024Z00'00'\", 'trapped': ''})]"
            ]
          },
          "execution_count": 101,
          "metadata": {},
          "output_type": "execute_result"
        }
      ],
      "source": [
        "retriever.get_relevant_documents(\"Where is AIT located?\")"
      ]
    },
    {
      "cell_type": "markdown",
      "metadata": {
        "id": "CbW0r9FC97uR"
      },
      "source": [
        "## 3. Memory\n",
        "\n",
        "One of the core utility classes underpinning most (if not all) memory modules is the ChatMessageHistory class. This is a super lightweight wrapper that provides convenience methods for saving HumanMessages, AIMessages, and then fetching them all.\n",
        "\n",
        "You may want to use this class directly if you are managing memory outside of a chain.\n"
      ]
    },
    {
      "cell_type": "code",
      "execution_count": 122,
      "metadata": {
        "id": "npel_ZfebXfY"
      },
      "outputs": [],
      "source": [
        "#pip install langchain==0.1.0"
      ]
    },
    {
      "cell_type": "code",
      "execution_count": 103,
      "metadata": {
        "colab": {
          "base_uri": "https://localhost:8080/"
        },
        "id": "nVZI3eMm97uR",
        "outputId": "143494f7-a967-4ee4-b0a3-4aac2536ccda"
      },
      "outputs": [
        {
          "data": {
            "text/plain": [
              "ChatMessageHistory(messages=[])"
            ]
          },
          "execution_count": 103,
          "metadata": {},
          "output_type": "execute_result"
        }
      ],
      "source": [
        "from langchain.memory import ChatMessageHistory\n",
        "\n",
        "history = ChatMessageHistory()\n",
        "history"
      ]
    },
    {
      "cell_type": "code",
      "execution_count": 104,
      "metadata": {
        "id": "pRY3DvTL97uR"
      },
      "outputs": [],
      "source": [
        "history.add_user_message('hi')\n",
        "history.add_ai_message('Whats up?')\n",
        "history.add_user_message('How are you')\n",
        "history.add_ai_message('I\\'m quite good. How about you?')"
      ]
    },
    {
      "cell_type": "code",
      "execution_count": 105,
      "metadata": {
        "colab": {
          "base_uri": "https://localhost:8080/"
        },
        "id": "JrN8g7cG97uR",
        "outputId": "091b5889-cb5c-4e80-c5a1-280d3b14c49d"
      },
      "outputs": [
        {
          "data": {
            "text/plain": [
              "ChatMessageHistory(messages=[HumanMessage(content='hi'), AIMessage(content='Whats up?'), HumanMessage(content='How are you'), AIMessage(content=\"I'm quite good. How about you?\")])"
            ]
          },
          "execution_count": 105,
          "metadata": {},
          "output_type": "execute_result"
        }
      ],
      "source": [
        "history"
      ]
    },
    {
      "cell_type": "markdown",
      "metadata": {
        "id": "qXk4Nf1q97uR"
      },
      "source": [
        "### 3.1 Memory types\n",
        "\n",
        "There are many different types of memory. Each has their own parameters, their own return types, and is useful in different scenarios.\n",
        "- Converstaion Buffer\n",
        "- Converstaion Buffer Window"
      ]
    },
    {
      "cell_type": "markdown",
      "metadata": {
        "id": "AoLm-HfZ97uS"
      },
      "source": [
        "What variables get returned from memory\n",
        "\n",
        "Before going into the chain, various variables are read from memory. These have specific names which need to align with the variables the chain expects. You can see what these variables are by calling memory.load_memory_variables({}). Note that the empty dictionary that we pass in is just a placeholder for real variables. If the memory type you are using is dependent upon the input variables, you may need to pass some in."
      ]
    },
    {
      "cell_type": "markdown",
      "metadata": {
        "id": "W_xR4SYa97uS"
      },
      "source": [
        "In this case, you can see that load_memory_variables returns a single key, history. This means that your chain (and likely your prompt) should expect an input named history. You can usually control this variable through parameters on the memory class. For example, if you want the memory variables to be returned in the key chat_history you can do:"
      ]
    },
    {
      "cell_type": "markdown",
      "metadata": {
        "id": "lcaS6oAG97uS"
      },
      "source": [
        "#### Converstaion Buffer\n",
        "This memory allows for storing messages and then extracts the messages in a variable."
      ]
    },
    {
      "cell_type": "code",
      "execution_count": 106,
      "metadata": {
        "colab": {
          "base_uri": "https://localhost:8080/"
        },
        "id": "POsxfVDW97uS",
        "outputId": "196d9089-f37f-4334-d798-06a43d9e2f3c"
      },
      "outputs": [
        {
          "data": {
            "text/plain": [
              "{'history': \"Human: hi\\nAI: What's up?\\nHuman: How are you?\\nAI: I'm quite good. How about you?\"}"
            ]
          },
          "execution_count": 106,
          "metadata": {},
          "output_type": "execute_result"
        }
      ],
      "source": [
        "from langchain.memory import ConversationBufferMemory\n",
        "\n",
        "memory = ConversationBufferMemory()\n",
        "memory.save_context({'input':'hi'}, {'output':'What\\'s up?'})\n",
        "memory.save_context({\"input\":'How are you?'},{'output': 'I\\'m quite good. How about you?'})\n",
        "memory.load_memory_variables({})"
      ]
    },
    {
      "cell_type": "code",
      "execution_count": 107,
      "metadata": {
        "colab": {
          "base_uri": "https://localhost:8080/"
        },
        "id": "P1D1Q6ic97uS",
        "outputId": "e5cf2eab-4556-4299-c7c7-1a8a1a9dfc5e"
      },
      "outputs": [
        {
          "data": {
            "text/plain": [
              "{'history': [HumanMessage(content='hi'),\n",
              "  AIMessage(content=\"What's up?\"),\n",
              "  HumanMessage(content='How are you?'),\n",
              "  AIMessage(content=\"I'm quite good. How about you?\")]}"
            ]
          },
          "execution_count": 107,
          "metadata": {},
          "output_type": "execute_result"
        }
      ],
      "source": [
        "from langchain.memory import ConversationBufferMemory\n",
        "\n",
        "memory = ConversationBufferMemory(return_messages = True)\n",
        "memory.save_context({'input':'hi'}, {'output':'What\\'s up?'})\n",
        "memory.save_context({\"input\":'How are you?'},{'output': 'I\\'m quite good. How about you?'})\n",
        "memory.load_memory_variables({})"
      ]
    },
    {
      "cell_type": "markdown",
      "metadata": {
        "id": "l2Kf3InH97uU"
      },
      "source": [
        "#### Conversation Buffer Window\n",
        "- it keeps a list of the interactions of the conversation over time.\n",
        "- it only uses the last K interactions.\n",
        "- it can be useful for keeping a sliding window of the most recent interactions, so the buffer does not get too large."
      ]
    },
    {
      "cell_type": "code",
      "execution_count": 108,
      "metadata": {
        "colab": {
          "base_uri": "https://localhost:8080/"
        },
        "id": "dfz6mh7797uU",
        "outputId": "2247a0bb-7997-45ac-fa20-e9b5a265edd9"
      },
      "outputs": [
        {
          "data": {
            "text/plain": [
              "{'history': \"Human: How are you?\\nAI: I'm quite good. How about you?\"}"
            ]
          },
          "execution_count": 108,
          "metadata": {},
          "output_type": "execute_result"
        }
      ],
      "source": [
        "from langchain.memory import ConversationBufferWindowMemory\n",
        "\n",
        "memory = ConversationBufferWindowMemory(k=1)\n",
        "memory.save_context({'input':'hi'}, {'output':'What\\'s up?'})\n",
        "memory.save_context({\"input\":'How are you?'},{'output': 'I\\'m quite good. How about you?'})\n",
        "memory.load_memory_variables({})"
      ]
    },
    {
      "cell_type": "markdown",
      "metadata": {
        "id": "oc-e9FGH97uV"
      },
      "source": [
        "## 4. Chain\n",
        "\n",
        "Using an LLM in isolation is fine for simple applications, but more complex applications require chaining LLMs - either with each other or with other components.\n",
        "\n",
        "An `LLMChain` is a simple chain that adds some functionality around language models.\n",
        "- it consists of a `PromptTemplate` and a `LM` (either an LLM or chat model).\n",
        "- it formats the prompt template using the input key values provided (and also memory key values, if available),\n",
        "- it passes the formatted string to LLM and returns the LLM output.\n",
        "\n",
        "Note : [Download Fastchat Model Here](https://huggingface.co/lmsys/fastchat-t5-3b-v1.0)"
      ]
    },
    {
      "cell_type": "code",
      "execution_count": null,
      "metadata": {
        "id": "kLO5WxtI97uV"
      },
      "outputs": [],
      "source": [
        " #%cd ./content\n",
        " #!git clone https://huggingface.co/lmsys/fastchat-t5-3b-v1.0"
      ]
    },
    {
      "cell_type": "code",
      "execution_count": 109,
      "metadata": {
        "colab": {
          "base_uri": "https://localhost:8080/"
        },
        "id": "SRA9Xo3a97uV",
        "outputId": "30dcf692-ec5f-4095-c5f9-691a4aebf436"
      },
      "outputs": [
        {
          "name": "stderr",
          "output_type": "stream",
          "text": [
            "Special tokens have been added in the vocabulary, make sure the associated word embeddings are fine-tuned or trained.\n",
            "Special tokens have been added in the vocabulary, make sure the associated word embeddings are fine-tuned or trained.\n"
          ]
        }
      ],
      "source": [
        "from transformers import AutoTokenizer, pipeline, AutoModelForSeq2SeqLM\n",
        "from transformers import BitsAndBytesConfig\n",
        "from langchain import HuggingFacePipeline\n",
        "import torch\n",
        "\n",
        "model_id = 'fastchat-t5-3b-v1.0'\n",
        "\n",
        "tokenizer = AutoTokenizer.from_pretrained(\n",
        "    model_id)\n",
        "\n",
        "tokenizer.pad_token_id = tokenizer.eos_token_id\n",
        "\n",
        "bitsandbyte_config = BitsAndBytesConfig(\n",
        "    load_in_4bit = True,\n",
        "    bnb_4bit_quant_type = \"nf4\",\n",
        "    bnb_4bit_compute_dtype = torch.float16,\n",
        "    bnb_4bit_use_double_quant = True\n",
        ")\n",
        "\n",
        "model = AutoModelForSeq2SeqLM.from_pretrained(\n",
        "    model_id,\n",
        "    quantization_config = bitsandbyte_config, #caution Nvidia\n",
        "    device_map = 'auto',\n",
        "    load_in_8bit = True\n",
        ")\n",
        "\n",
        "pipe = pipeline(\n",
        "    task=\"text2text-generation\",\n",
        "    model=model,\n",
        "    tokenizer=tokenizer,\n",
        "    max_new_tokens = 256,\n",
        "    model_kwargs = {\n",
        "        \"temperature\" : 0,\n",
        "        \"repetition_penalty\": 1.5\n",
        "    }\n",
        ")\n",
        "\n",
        "llm = HuggingFacePipeline(pipeline = pipe)"
      ]
    },
    {
      "cell_type": "markdown",
      "metadata": {
        "id": "Asdqfwez97uV"
      },
      "source": [
        "### [Class ConversationalRetrievalChain](https://api.python.langchain.com/en/latest/_modules/langchain/chains/conversational_retrieval/base.html#ConversationalRetrievalChain)\n",
        "\n",
        "- `retriever` : Retriever to use to fetch documents.\n",
        "\n",
        "- `combine_docs_chain` : The chain used to combine any retrieved documents.\n",
        "\n",
        "- `question_generator`: The chain used to generate a new question for the sake of retrieval. This chain will take in the current question (with variable question) and any chat history (with variable chat_history) and will produce a new standalone question to be used later on.\n",
        "\n",
        "- `return_source_documents` : Return the retrieved source documents as part of the final result.\n",
        "\n",
        "- `get_chat_history` : An optional function to get a string of the chat history. If None is provided, will use a default.\n",
        "\n",
        "- `return_generated_question` : Return the generated question as part of the final result.\n",
        "\n",
        "- `response_if_no_docs_found` : If specified, the chain will return a fixed response if no docs are found for the question.\n"
      ]
    },
    {
      "cell_type": "markdown",
      "metadata": {
        "id": "hjNATuBz97uW"
      },
      "source": [
        "`question_generator`"
      ]
    },
    {
      "cell_type": "code",
      "execution_count": 110,
      "metadata": {
        "id": "rs9rBKKm97uW"
      },
      "outputs": [],
      "source": [
        "from langchain.chains import LLMChain\n",
        "from langchain.chains.conversational_retrieval.prompts import CONDENSE_QUESTION_PROMPT\n",
        "from langchain.memory import ConversationBufferWindowMemory\n",
        "from langchain.chains.question_answering import load_qa_chain\n",
        "from langchain.chains import ConversationalRetrievalChain"
      ]
    },
    {
      "cell_type": "code",
      "execution_count": 111,
      "metadata": {
        "colab": {
          "base_uri": "https://localhost:8080/"
        },
        "id": "W3xvj_Aq97uW",
        "outputId": "bfce2a03-79e5-4822-fe02-84dad13e7006"
      },
      "outputs": [
        {
          "data": {
            "text/plain": [
              "PromptTemplate(input_variables=['chat_history', 'question'], template='Given the following conversation and a follow up question, rephrase the follow up question to be a standalone question, in its original language.\\n\\nChat History:\\n{chat_history}\\nFollow Up Input: {question}\\nStandalone question:')"
            ]
          },
          "execution_count": 111,
          "metadata": {},
          "output_type": "execute_result"
        }
      ],
      "source": [
        "CONDENSE_QUESTION_PROMPT"
      ]
    },
    {
      "cell_type": "code",
      "execution_count": 112,
      "metadata": {
        "id": "qMaD_YfJ97uW"
      },
      "outputs": [],
      "source": [
        "question_generator = LLMChain(\n",
        "    llm = llm,\n",
        "    prompt = CONDENSE_QUESTION_PROMPT,\n",
        "    verbose = True\n",
        ")"
      ]
    },
    {
      "cell_type": "code",
      "execution_count": 113,
      "metadata": {
        "colab": {
          "base_uri": "https://localhost:8080/"
        },
        "id": "j9CB2tAU97uW",
        "outputId": "1aed1602-b3c1-4319-e9ce-8f86dd246c10"
      },
      "outputs": [
        {
          "name": "stdout",
          "output_type": "stream",
          "text": [
            "\n",
            "\n",
            "\u001b[1m> Entering new LLMChain chain...\u001b[0m\n",
            "Prompt after formatting:\n",
            "\u001b[32;1m\u001b[1;3mGiven the following conversation and a follow up question, rephrase the follow up question to be a standalone question, in its original language.\n",
            "\n",
            "Chat History:\n",
            "Human:What is Machine Learning\n",
            "AI:\n",
            "Human:What is Deep Learning\n",
            "AI:\n",
            "Follow Up Input: Comparing both of them\n",
            "Standalone question:\u001b[0m\n",
            "\n",
            "\u001b[1m> Finished chain.\u001b[0m\n"
          ]
        },
        {
          "data": {
            "text/plain": [
              "{'chat_history': 'Human:What is Machine Learning\\nAI:\\nHuman:What is Deep Learning\\nAI:',\n",
              " 'question': 'Comparing both of them',\n",
              " 'text': '<pad> What  is  the  difference  between  Machine  Learning  and  Deep  Learning  AI?\\n'}"
            ]
          },
          "execution_count": 113,
          "metadata": {},
          "output_type": "execute_result"
        }
      ],
      "source": [
        "query = 'Comparing both of them'\n",
        "chat_history = \"Human:What is Machine Learning\\nAI:\\nHuman:What is Deep Learning\\nAI:\"\n",
        "\n",
        "question_generator({'chat_history' : chat_history, \"question\" : query})"
      ]
    },
    {
      "cell_type": "markdown",
      "metadata": {
        "id": "txVvIZBm97uW"
      },
      "source": [
        "`combine_docs_chain`"
      ]
    },
    {
      "cell_type": "code",
      "execution_count": 114,
      "metadata": {
        "colab": {
          "base_uri": "https://localhost:8080/"
        },
        "id": "8X_Sco8z97uW",
        "outputId": "91ca0abc-d73b-4269-e7c5-da520337a321"
      },
      "outputs": [
        {
          "data": {
            "text/plain": [
              "StuffDocumentsChain(verbose=True, llm_chain=LLMChain(verbose=True, prompt=PromptTemplate(input_variables=['context', 'question'], template=\"I'm your friendly chatbot named AITBot, here to assist students with any questions they have about Asian Institute of Technology.\\n    If you're curious about AIT, feel free to ask any questions you may have.\\n    Whether it's about AIT,programs and courses it offers, or any other related topic,\\n    I'm here to help you.\\n    Just let me know what you're wondering about, and I'll do my best to guide you through it!\\n    {context}\\n    Question: {question}\\n    Answer:\"), llm=HuggingFacePipeline(pipeline=<transformers.pipelines.text2text_generation.Text2TextGenerationPipeline object at 0x7b7ed2250af0>)), document_variable_name='context')"
            ]
          },
          "execution_count": 114,
          "metadata": {},
          "output_type": "execute_result"
        }
      ],
      "source": [
        "doc_chain = load_qa_chain(\n",
        "    llm = llm,\n",
        "    chain_type = 'stuff',\n",
        "    prompt = PROMPT,\n",
        "    verbose = True\n",
        ")\n",
        "doc_chain"
      ]
    },
    {
      "cell_type": "code",
      "execution_count": 115,
      "metadata": {
        "colab": {
          "base_uri": "https://localhost:8080/"
        },
        "id": "Wrcc3oRp97uX",
        "outputId": "678a5e1d-118a-43ea-cf32-892cb69a971d",
        "scrolled": true
      },
      "outputs": [
        {
          "name": "stdout",
          "output_type": "stream",
          "text": [
            "\n",
            "\n",
            "\u001b[1m> Entering new StuffDocumentsChain chain...\u001b[0m\n",
            "\n",
            "\n",
            "\u001b[1m> Entering new LLMChain chain...\u001b[0m\n",
            "Prompt after formatting:\n",
            "\u001b[32;1m\u001b[1;3mI'm your friendly chatbot named AITBot, here to assist students with any questions they have about Asian Institute of Technology.\n",
            "    If you're curious about AIT, feel free to ask any questions you may have.\n",
            "    Whether it's about AIT,programs and courses it offers, or any other related topic,\n",
            "    I'm here to help you.\n",
            "    Just let me know what you're wondering about, and I'll do my best to guide you through it!\n",
            "    Regenerative Sanitation \n",
            "Sustainable Energy Transition\n",
            "Department of Development  \n",
            "and Sustainability\n",
            "Development and Sustainability \n",
            "Gender and Development \n",
            "Studies \n",
            "Natural Resources Management \n",
            "Development Planning \n",
            "Management and Innovation \n",
            "Urban Innovation and \n",
            "Sustainability \n",
            "Urban Sustainability Planning \n",
            "and Design \n",
            "Society and Environmental \n",
            "Governance \n",
            "Department of Civil and \n",
            "Infrastructure Engineering\n",
            "Construction Engineering and \n",
            "Infrastructure Management \n",
            "Geotechnical and Earth \n",
            "Resources Engineering \n",
            "Structural Engineering \n",
            "Transportation Engineering \n",
            "Water Engineering and \n",
            "Management \n",
            "Department of Information \n",
            "and Communication \n",
            "Technologies \n",
            "Computer Science\n",
            "\n",
            "Management \n",
            "Department of Information \n",
            "and Communication \n",
            "Technologies \n",
            "Computer Science \n",
            "Information Management \n",
            "Information and \n",
            "Communications Technologies \n",
            "Telecommunications \n",
            "Remote Sensing and \n",
            "Geographic Information \n",
            "Systems \n",
            "Data Science and Artificial \n",
            "Intelligence \n",
            "Internet of Things (IoT) Systems \n",
            "Engineering\n",
            "Department of Industrial \n",
            "Systems Engineering\n",
            "Mechatronics\n",
            "Microelectronics and \n",
            "Embedded Systems \n",
            "Industrial and Manufacturing \n",
            "Engineering \n",
            "Bio-Nano Materials Science \n",
            "and Engineering\n",
            "Business Administration \n",
            "Marketing\n",
            "Finance\n",
            "Change & Innovation\n",
            "Business Risk and \n",
            "Resilience \n",
            "Business Analytics and \n",
            "Digital Transformation \n",
            "International Finance\n",
            "Banking and Finance\n",
            "\n",
            "• United Nations Economic and Social  \n",
            "Commission for Asia and the Pacific\n",
            "• United States Agency for International Development \n",
            "• World Bank\n",
            "• and more …\n",
            "P A R T N E R S  \n",
            "A B O U T\n",
            "A I T\n",
            "The Asian Institute of Technology (AIT) is an \n",
            "international English-speaking postgraduate \n",
            "institution, providing engineering, environment, \n",
            "and management education and research, \n",
            "focusing on Sustainability and Social Impact \n",
            "issues. Our current strategic themed areas \n",
            "are: Climate Change; Smart Communities; \n",
            "Food- Energy-Water; Infrastr ucture; and \n",
            "Technology, Policy and Society. AIT’s rigorous \n",
            "academic, research, and outreach programs \n",
            "prepare graduates for professional success and\n",
            "\n",
            "Business Analytics and \n",
            "Digital Transformation \n",
            "International Finance\n",
            "Banking and Finance \n",
            "Unified Programs \n",
            "Earning two degrees – Bachelor from Partner Univer-\n",
            "sity and Master from AIT, through this ‘fast-track’ and \n",
            "cost-efficient collaborative program, using summer \n",
            "holidays in the study program as inter-semester. Stu-\n",
            "dents have an opportunity to work on a Bachelor’s \n",
            "Degree Final-Year Project at AIT, thereby saving at \n",
            "least one semester of study to obtain two degrees. \n",
            "Capacity-Building PhD Partnership \n",
            "Programs\n",
            "Providing human resource capacity development \n",
            "for non-PhD faculty and staff of other partner higher \n",
            "education institutions, enhancing institutional ca-\n",
            "    Question: What is Transformers?\n",
            "    Answer:\u001b[0m\n",
            "\n",
            "\u001b[1m> Finished chain.\u001b[0m\n",
            "\n",
            "\u001b[1m> Finished chain.\u001b[0m\n"
          ]
        },
        {
          "data": {
            "text/plain": [
              "{'input_documents': [Document(page_content='Regenerative Sanitation \\nSustainable Energy Transition\\nDepartment of Development  \\nand Sustainability\\nDevelopment and Sustainability \\nGender and Development \\nStudies \\nNatural Resources Management \\nDevelopment Planning \\nManagement and Innovation \\nUrban Innovation and \\nSustainability \\nUrban Sustainability Planning \\nand Design \\nSociety and Environmental \\nGovernance \\nDepartment of Civil and \\nInfrastructure Engineering\\nConstruction Engineering and \\nInfrastructure Management \\nGeotechnical and Earth \\nResources Engineering \\nStructural Engineering \\nTransportation Engineering \\nWater Engineering and \\nManagement \\nDepartment of Information \\nand Communication \\nTechnologies \\nComputer Science', metadata={'source': '/content/AIT-BROCHURE.pdf', 'file_path': '/content/AIT-BROCHURE.pdf', 'page': 1, 'total_pages': 2, 'format': 'PDF 1.4', 'title': '', 'author': '', 'subject': '', 'keywords': '', 'creator': 'Adobe InDesign CS5.5 (7.5)', 'producer': 'macOS Version 11.6 (Build 20G165) Quartz PDFContext', 'creationDate': \"D:20211117094024Z00'00'\", 'modDate': \"D:20211117094024Z00'00'\", 'trapped': ''}),\n",
              "  Document(page_content='Management \\nDepartment of Information \\nand Communication \\nTechnologies \\nComputer Science \\nInformation Management \\nInformation and \\nCommunications Technologies \\nTelecommunications \\nRemote Sensing and \\nGeographic Information \\nSystems \\nData Science and Artificial \\nIntelligence \\nInternet of Things (IoT) Systems \\nEngineering\\nDepartment of Industrial \\nSystems Engineering\\nMechatronics\\nMicroelectronics and \\nEmbedded Systems \\nIndustrial and Manufacturing \\nEngineering \\nBio-Nano Materials Science \\nand Engineering\\nBusiness Administration \\nMarketing\\nFinance\\nChange & Innovation\\nBusiness Risk and \\nResilience \\nBusiness Analytics and \\nDigital Transformation \\nInternational Finance\\nBanking and Finance', metadata={'source': '/content/AIT-BROCHURE.pdf', 'file_path': '/content/AIT-BROCHURE.pdf', 'page': 1, 'total_pages': 2, 'format': 'PDF 1.4', 'title': '', 'author': '', 'subject': '', 'keywords': '', 'creator': 'Adobe InDesign CS5.5 (7.5)', 'producer': 'macOS Version 11.6 (Build 20G165) Quartz PDFContext', 'creationDate': \"D:20211117094024Z00'00'\", 'modDate': \"D:20211117094024Z00'00'\", 'trapped': ''}),\n",
              "  Document(page_content='• United Nations Economic and Social  \\nCommission for Asia and the Pacific\\n• United States Agency for International Development \\n• World Bank\\n• and more …\\nP A R T N E R S  \\nA B O U T\\nA I T\\nThe Asian Institute of Technology (AIT) is an \\ninternational English-speaking postgraduate \\ninstitution, providing engineering, environment, \\nand management education and research, \\nfocusing on Sustainability and Social Impact \\nissues. Our current strategic themed areas \\nare: Climate Change; Smart Communities; \\nFood- Energy-Water; Infrastr ucture; and \\nTechnology, Policy and Society. AIT’s rigorous \\nacademic, research, and outreach programs \\nprepare graduates for professional success and', metadata={'source': '/content/AIT-BROCHURE.pdf', 'file_path': '/content/AIT-BROCHURE.pdf', 'page': 1, 'total_pages': 2, 'format': 'PDF 1.4', 'title': '', 'author': '', 'subject': '', 'keywords': '', 'creator': 'Adobe InDesign CS5.5 (7.5)', 'producer': 'macOS Version 11.6 (Build 20G165) Quartz PDFContext', 'creationDate': \"D:20211117094024Z00'00'\", 'modDate': \"D:20211117094024Z00'00'\", 'trapped': ''}),\n",
              "  Document(page_content='Business Analytics and \\nDigital Transformation \\nInternational Finance\\nBanking and Finance \\nUnified Programs \\nEarning two degrees – Bachelor from Partner Univer-\\nsity and Master from AIT, through this ‘fast-track’ and \\ncost-efficient collaborative program, using summer \\nholidays in the study program as inter-semester. Stu-\\ndents have an opportunity to work on a Bachelor’s \\nDegree Final-Year Project at AIT, thereby saving at \\nleast one semester of study to obtain two degrees. \\nCapacity-Building PhD Partnership \\nPrograms\\nProviding human resource capacity development \\nfor non-PhD faculty and staff of other partner higher \\neducation institutions, enhancing institutional ca-', metadata={'source': '/content/AIT-BROCHURE.pdf', 'file_path': '/content/AIT-BROCHURE.pdf', 'page': 1, 'total_pages': 2, 'format': 'PDF 1.4', 'title': '', 'author': '', 'subject': '', 'keywords': '', 'creator': 'Adobe InDesign CS5.5 (7.5)', 'producer': 'macOS Version 11.6 (Build 20G165) Quartz PDFContext', 'creationDate': \"D:20211117094024Z00'00'\", 'modDate': \"D:20211117094024Z00'00'\", 'trapped': ''})],\n",
              " 'question': 'What is Transformers?',\n",
              " 'output_text': '<pad>  Transformers  are  electronic  devices  that  convert  electrical  energy  into  a  different  form  of  energy.  They  are  commonly  used  in  electrical  power  systems  to  convert  AC  power  into  DC  power,  or  vice  versa.  Transformers  are  used  in  a  wide  range  of  applications,  including  power  electronics,  electric  vehicles,  and  industrial  automation.\\n'}"
            ]
          },
          "execution_count": 115,
          "metadata": {},
          "output_type": "execute_result"
        }
      ],
      "source": [
        "query = \"What is Transformers?\"\n",
        "input_document = retriever.get_relevant_documents(query)\n",
        "\n",
        "doc_chain({'input_documents':input_document, 'question':query})"
      ]
    },
    {
      "cell_type": "code",
      "execution_count": 116,
      "metadata": {
        "colab": {
          "base_uri": "https://localhost:8080/"
        },
        "id": "_RTsN0oi97uX",
        "outputId": "ac44f39e-29a9-4435-f7ba-53f55547f8d1"
      },
      "outputs": [
        {
          "data": {
            "text/plain": [
              "ConversationalRetrievalChain(memory=ConversationBufferWindowMemory(output_key='answer', return_messages=True, memory_key='chat_history', k=3), verbose=True, combine_docs_chain=StuffDocumentsChain(verbose=True, llm_chain=LLMChain(verbose=True, prompt=PromptTemplate(input_variables=['context', 'question'], template=\"I'm your friendly chatbot named AITBot, here to assist students with any questions they have about Asian Institute of Technology.\\n    If you're curious about AIT, feel free to ask any questions you may have.\\n    Whether it's about AIT,programs and courses it offers, or any other related topic,\\n    I'm here to help you.\\n    Just let me know what you're wondering about, and I'll do my best to guide you through it!\\n    {context}\\n    Question: {question}\\n    Answer:\"), llm=HuggingFacePipeline(pipeline=<transformers.pipelines.text2text_generation.Text2TextGenerationPipeline object at 0x7b7ed2250af0>)), document_variable_name='context'), question_generator=LLMChain(verbose=True, prompt=PromptTemplate(input_variables=['chat_history', 'question'], template='Given the following conversation and a follow up question, rephrase the follow up question to be a standalone question, in its original language.\\n\\nChat History:\\n{chat_history}\\nFollow Up Input: {question}\\nStandalone question:'), llm=HuggingFacePipeline(pipeline=<transformers.pipelines.text2text_generation.Text2TextGenerationPipeline object at 0x7b7ed2250af0>)), return_source_documents=True, get_chat_history=<function <lambda> at 0x7b7ed0d62200>, retriever=VectorStoreRetriever(tags=['FAISS', 'HuggingFaceInstructEmbeddings'], vectorstore=<langchain_community.vectorstores.faiss.FAISS object at 0x7b7ed2250e80>))"
            ]
          },
          "execution_count": 116,
          "metadata": {},
          "output_type": "execute_result"
        }
      ],
      "source": [
        "memory = ConversationBufferWindowMemory(\n",
        "    k=3,\n",
        "    memory_key = \"chat_history\",\n",
        "    return_messages = True,\n",
        "    output_key = 'answer'\n",
        ")\n",
        "\n",
        "chain = ConversationalRetrievalChain(\n",
        "    retriever=retriever,\n",
        "    question_generator=question_generator,\n",
        "    combine_docs_chain=doc_chain,\n",
        "    return_source_documents=True,\n",
        "    memory=memory,\n",
        "    verbose=True,\n",
        "    get_chat_history=lambda h : h\n",
        ")\n",
        "chain"
      ]
    },
    {
      "cell_type": "markdown",
      "metadata": {
        "id": "7OXKANhA97uX"
      },
      "source": [
        "## 5. Chatbot"
      ]
    },
    {
      "cell_type": "code",
      "execution_count": 117,
      "metadata": {
        "colab": {
          "base_uri": "https://localhost:8080/"
        },
        "id": "jpnYxQG397uX",
        "outputId": "2d59f7a2-8ea2-40d0-f2dd-66ec1375f089"
      },
      "outputs": [
        {
          "name": "stdout",
          "output_type": "stream",
          "text": [
            "\n",
            "\n",
            "\u001b[1m> Entering new ConversationalRetrievalChain chain...\u001b[0m\n",
            "\n",
            "\n",
            "\u001b[1m> Entering new StuffDocumentsChain chain...\u001b[0m\n",
            "\n",
            "\n",
            "\u001b[1m> Entering new LLMChain chain...\u001b[0m\n",
            "Prompt after formatting:\n",
            "\u001b[32;1m\u001b[1;3mI'm your friendly chatbot named AITBot, here to assist students with any questions they have about Asian Institute of Technology.\n",
            "    If you're curious about AIT, feel free to ask any questions you may have.\n",
            "    Whether it's about AIT,programs and courses it offers, or any other related topic,\n",
            "    I'm here to help you.\n",
            "    Just let me know what you're wondering about, and I'll do my best to guide you through it!\n",
            "    process that has taken me thus far.\n",
            "D r.  B i n d a  P a n d e y \n",
            "(Class of 2002)\n",
            "Current Position \n",
            "MP, House of Representative and Chair of Trade Union \n",
            "Policy Institute of GEFONT, Nepal\n",
            "AIT has added me theoretical clarity which \n",
            "has helped me in my role as a woman and \n",
            "a trade union activist dealing with gender \n",
            "issues for decades. I could apply my aca-\n",
            "demic knowledge to my work on move-\n",
            "ment and state policy to achieve gender \n",
            "justice. I am always thankful to AIT for \n",
            "enriching me with this academic strength.\n",
            "M r.  S o p h e a p  S r e n g \n",
            "(Class of 2010) \n",
            "Current Position \n",
            "Project Design and Gender Specialist,  \n",
            "USAID, Cambodia\n",
            "I was very well guided in both academic\n",
            "\n",
            "• Asian Development Bank \n",
            "• Bangchak Corporation Pub Co., Ltd.\n",
            "• Betagro Pub Co., Ltd.\n",
            "• Bill and Melinda Gates Foundation\n",
            "• China Scholarship Council \n",
            "• Computer & Structure Inc.\n",
            "• DeepRock (Vanke), Shenzhen \n",
            "• Dorabot, Shenzhen\n",
            "• ERASMUS+ / European Union\n",
            "• German Academic Exchange Service (DAAD)\n",
            "• Ministry of Foreign Affairs, Government of Japan\n",
            "• National Science and Technology  \n",
            "Development Agency \n",
            "• Royal Thai Government \n",
            "• Siam Cement Group Pub Co., Ltd.\n",
            "• Siam Commercial Bank Pub Co., Ltd.\n",
            "• TEAM Consulting Engineering and  \n",
            "Management Pub Co., Ltd.\n",
            "• Thai Pipe Industry Co., Ltd.\n",
            "• United Nations Economic and Social  \n",
            "Commission for Asia and the Pacific\n",
            "\n",
            "Yunus Center at AIT\n",
            "- - E nte r p r i s e  s o l u t i o n s fo r  S D G s & \n",
            "technologies to alleviate poverty; member \n",
            "of global Yunus network\n",
            "AIT Center Vietnam\n",
            "- -Provisions of academic programs, \n",
            "training, and consulting in Vietnam\n",
            "O U T R E A C H\n",
            "C E N T E R S\n",
            "Mr. Chaiwat Kovavisarash \n",
            "(Class of 1991)\n",
            "Current Position \n",
            "CEO, President & Director, Bangchak Corporation \n",
            "Public Company Limited, Thailand\n",
            "AIT opened up my mind exposing me to in-\n",
            "ternational surroundings and transforming \n",
            "me to be a mature and lifelong learning \n",
            "person. It was this memorable 20-month \n",
            "process that has taken me thus far.\n",
            "D r.  B i n d a  P a n d e y \n",
            "(Class of 2002)\n",
            "Current Position\n",
            "\n",
            "Regenerative Sanitation \n",
            "Sustainable Energy Transition\n",
            "Department of Development  \n",
            "and Sustainability\n",
            "Development and Sustainability \n",
            "Gender and Development \n",
            "Studies \n",
            "Natural Resources Management \n",
            "Development Planning \n",
            "Management and Innovation \n",
            "Urban Innovation and \n",
            "Sustainability \n",
            "Urban Sustainability Planning \n",
            "and Design \n",
            "Society and Environmental \n",
            "Governance \n",
            "Department of Civil and \n",
            "Infrastructure Engineering\n",
            "Construction Engineering and \n",
            "Infrastructure Management \n",
            "Geotechnical and Earth \n",
            "Resources Engineering \n",
            "Structural Engineering \n",
            "Transportation Engineering \n",
            "Water Engineering and \n",
            "Management \n",
            "Department of Information \n",
            "and Communication \n",
            "Technologies \n",
            "Computer Science\n",
            "    Question: Who are you by the way?\n",
            "    Answer:\u001b[0m\n",
            "\n",
            "\u001b[1m> Finished chain.\u001b[0m\n",
            "\n",
            "\u001b[1m> Finished chain.\u001b[0m\n",
            "\n",
            "\u001b[1m> Finished chain.\u001b[0m\n"
          ]
        },
        {
          "data": {
            "text/plain": [
              "{'question': 'Who are you by the way?',\n",
              " 'chat_history': [],\n",
              " 'answer': \"<pad>  I'm  AITBot,  a  chatbot  designed  to  assist  students  with  any  questions  they  have  about  Asian  Institute  of  Technology.  I'm  here  to  help  you  with  any  questions  you  may  have  about  AIT,  programs  and  courses  it  offers,  or  any  other  related  topic.  Just  let  me  know  what  you're  wondering  about,  and  I'll  do  my  best  to  guide  you  through  it!\\n\",\n",
              " 'source_documents': [Document(page_content='process that has taken me thus far.\\nD r.  B i n d a  P a n d e y \\n(Class of 2002)\\nCurrent Position \\nMP, House of Representative and Chair of Trade Union \\nPolicy Institute of GEFONT, Nepal\\nAIT has added me theoretical clarity which \\nhas helped me in my role as a woman and \\na trade union activist dealing with gender \\nissues for decades. I could apply my aca-\\ndemic knowledge to my work on move-\\nment and state policy to achieve gender \\njustice. I am always thankful to AIT for \\nenriching me with this academic strength.\\nM r.  S o p h e a p  S r e n g \\n(Class of 2010) \\nCurrent Position \\nProject Design and Gender Specialist,  \\nUSAID, Cambodia\\nI was very well guided in both academic', metadata={'source': '/content/AIT-BROCHURE.pdf', 'file_path': '/content/AIT-BROCHURE.pdf', 'page': 0, 'total_pages': 2, 'format': 'PDF 1.4', 'title': '', 'author': '', 'subject': '', 'keywords': '', 'creator': 'Adobe InDesign CS5.5 (7.5)', 'producer': 'macOS Version 11.6 (Build 20G165) Quartz PDFContext', 'creationDate': \"D:20211117094024Z00'00'\", 'modDate': \"D:20211117094024Z00'00'\", 'trapped': ''}),\n",
              "  Document(page_content='• Asian Development Bank \\n• Bangchak Corporation Pub Co., Ltd.\\n• Betagro Pub Co., Ltd.\\n• Bill and Melinda Gates Foundation\\n• China Scholarship Council \\n• Computer & Structure Inc.\\n• DeepRock (Vanke), Shenzhen \\n• Dorabot, Shenzhen\\n• ERASMUS+ / European Union\\n• German Academic Exchange Service (DAAD)\\n• Ministry of Foreign Affairs, Government of Japan\\n• National Science and Technology  \\nDevelopment Agency \\n• Royal Thai Government \\n• Siam Cement Group Pub Co., Ltd.\\n• Siam Commercial Bank Pub Co., Ltd.\\n• TEAM Consulting Engineering and  \\nManagement Pub Co., Ltd.\\n• Thai Pipe Industry Co., Ltd.\\n• United Nations Economic and Social  \\nCommission for Asia and the Pacific', metadata={'source': '/content/AIT-BROCHURE.pdf', 'file_path': '/content/AIT-BROCHURE.pdf', 'page': 1, 'total_pages': 2, 'format': 'PDF 1.4', 'title': '', 'author': '', 'subject': '', 'keywords': '', 'creator': 'Adobe InDesign CS5.5 (7.5)', 'producer': 'macOS Version 11.6 (Build 20G165) Quartz PDFContext', 'creationDate': \"D:20211117094024Z00'00'\", 'modDate': \"D:20211117094024Z00'00'\", 'trapped': ''}),\n",
              "  Document(page_content='Yunus Center at AIT\\n- - E nte r p r i s e  s o l u t i o n s fo r  S D G s & \\ntechnologies to alleviate poverty; member \\nof global Yunus network\\nAIT Center Vietnam\\n- -Provisions of academic programs, \\ntraining, and consulting in Vietnam\\nO U T R E A C H\\nC E N T E R S\\nMr. Chaiwat Kovavisarash \\n(Class of 1991)\\nCurrent Position \\nCEO, President & Director, Bangchak Corporation \\nPublic Company Limited, Thailand\\nAIT opened up my mind exposing me to in-\\nternational surroundings and transforming \\nme to be a mature and lifelong learning \\nperson. It was this memorable 20-month \\nprocess that has taken me thus far.\\nD r.  B i n d a  P a n d e y \\n(Class of 2002)\\nCurrent Position', metadata={'source': '/content/AIT-BROCHURE.pdf', 'file_path': '/content/AIT-BROCHURE.pdf', 'page': 0, 'total_pages': 2, 'format': 'PDF 1.4', 'title': '', 'author': '', 'subject': '', 'keywords': '', 'creator': 'Adobe InDesign CS5.5 (7.5)', 'producer': 'macOS Version 11.6 (Build 20G165) Quartz PDFContext', 'creationDate': \"D:20211117094024Z00'00'\", 'modDate': \"D:20211117094024Z00'00'\", 'trapped': ''}),\n",
              "  Document(page_content='Regenerative Sanitation \\nSustainable Energy Transition\\nDepartment of Development  \\nand Sustainability\\nDevelopment and Sustainability \\nGender and Development \\nStudies \\nNatural Resources Management \\nDevelopment Planning \\nManagement and Innovation \\nUrban Innovation and \\nSustainability \\nUrban Sustainability Planning \\nand Design \\nSociety and Environmental \\nGovernance \\nDepartment of Civil and \\nInfrastructure Engineering\\nConstruction Engineering and \\nInfrastructure Management \\nGeotechnical and Earth \\nResources Engineering \\nStructural Engineering \\nTransportation Engineering \\nWater Engineering and \\nManagement \\nDepartment of Information \\nand Communication \\nTechnologies \\nComputer Science', metadata={'source': '/content/AIT-BROCHURE.pdf', 'file_path': '/content/AIT-BROCHURE.pdf', 'page': 1, 'total_pages': 2, 'format': 'PDF 1.4', 'title': '', 'author': '', 'subject': '', 'keywords': '', 'creator': 'Adobe InDesign CS5.5 (7.5)', 'producer': 'macOS Version 11.6 (Build 20G165) Quartz PDFContext', 'creationDate': \"D:20211117094024Z00'00'\", 'modDate': \"D:20211117094024Z00'00'\", 'trapped': ''})]}"
            ]
          },
          "execution_count": 117,
          "metadata": {},
          "output_type": "execute_result"
        }
      ],
      "source": [
        "prompt_question = \"Who are you by the way?\"\n",
        "answer = chain({\"question\":prompt_question})\n",
        "answer"
      ]
    },
    {
      "cell_type": "code",
      "execution_count": 118,
      "metadata": {
        "colab": {
          "base_uri": "https://localhost:8080/"
        },
        "id": "KdX6Tixg97uX",
        "outputId": "7ac5de89-ad04-4ec7-da76-e61b72b28ec7"
      },
      "outputs": [
        {
          "name": "stdout",
          "output_type": "stream",
          "text": [
            "\n",
            "\n",
            "\u001b[1m> Entering new ConversationalRetrievalChain chain...\u001b[0m\n",
            "\n",
            "\n",
            "\u001b[1m> Entering new LLMChain chain...\u001b[0m\n",
            "Prompt after formatting:\n",
            "\u001b[32;1m\u001b[1;3mGiven the following conversation and a follow up question, rephrase the follow up question to be a standalone question, in its original language.\n",
            "\n",
            "Chat History:\n",
            "[HumanMessage(content='Who are you by the way?'), AIMessage(content=\"<pad>  I'm  AITBot,  a  chatbot  designed  to  assist  students  with  any  questions  they  have  about  Asian  Institute  of  Technology.  I'm  here  to  help  you  with  any  questions  you  may  have  about  AIT,  programs  and  courses  it  offers,  or  any  other  related  topic.  Just  let  me  know  what  you're  wondering  about,  and  I'll  do  my  best  to  guide  you  through  it!\\n\")]\n",
            "Follow Up Input: What is the Transformers?\n",
            "Standalone question:\u001b[0m\n",
            "\n",
            "\u001b[1m> Finished chain.\u001b[0m\n",
            "\n",
            "\n",
            "\u001b[1m> Entering new StuffDocumentsChain chain...\u001b[0m\n",
            "\n",
            "\n",
            "\u001b[1m> Entering new LLMChain chain...\u001b[0m\n",
            "Prompt after formatting:\n",
            "\u001b[32;1m\u001b[1;3mI'm your friendly chatbot named AITBot, here to assist students with any questions they have about Asian Institute of Technology.\n",
            "    If you're curious about AIT, feel free to ask any questions you may have.\n",
            "    Whether it's about AIT,programs and courses it offers, or any other related topic,\n",
            "    I'm here to help you.\n",
            "    Just let me know what you're wondering about, and I'll do my best to guide you through it!\n",
            "    Regenerative Sanitation \n",
            "Sustainable Energy Transition\n",
            "Department of Development  \n",
            "and Sustainability\n",
            "Development and Sustainability \n",
            "Gender and Development \n",
            "Studies \n",
            "Natural Resources Management \n",
            "Development Planning \n",
            "Management and Innovation \n",
            "Urban Innovation and \n",
            "Sustainability \n",
            "Urban Sustainability Planning \n",
            "and Design \n",
            "Society and Environmental \n",
            "Governance \n",
            "Department of Civil and \n",
            "Infrastructure Engineering\n",
            "Construction Engineering and \n",
            "Infrastructure Management \n",
            "Geotechnical and Earth \n",
            "Resources Engineering \n",
            "Structural Engineering \n",
            "Transportation Engineering \n",
            "Water Engineering and \n",
            "Management \n",
            "Department of Information \n",
            "and Communication \n",
            "Technologies \n",
            "Computer Science\n",
            "\n",
            "Management \n",
            "Department of Information \n",
            "and Communication \n",
            "Technologies \n",
            "Computer Science \n",
            "Information Management \n",
            "Information and \n",
            "Communications Technologies \n",
            "Telecommunications \n",
            "Remote Sensing and \n",
            "Geographic Information \n",
            "Systems \n",
            "Data Science and Artificial \n",
            "Intelligence \n",
            "Internet of Things (IoT) Systems \n",
            "Engineering\n",
            "Department of Industrial \n",
            "Systems Engineering\n",
            "Mechatronics\n",
            "Microelectronics and \n",
            "Embedded Systems \n",
            "Industrial and Manufacturing \n",
            "Engineering \n",
            "Bio-Nano Materials Science \n",
            "and Engineering\n",
            "Business Administration \n",
            "Marketing\n",
            "Finance\n",
            "Change & Innovation\n",
            "Business Risk and \n",
            "Resilience \n",
            "Business Analytics and \n",
            "Digital Transformation \n",
            "International Finance\n",
            "Banking and Finance\n",
            "\n",
            "• United Nations Economic and Social  \n",
            "Commission for Asia and the Pacific\n",
            "• United States Agency for International Development \n",
            "• World Bank\n",
            "• and more …\n",
            "P A R T N E R S  \n",
            "A B O U T\n",
            "A I T\n",
            "The Asian Institute of Technology (AIT) is an \n",
            "international English-speaking postgraduate \n",
            "institution, providing engineering, environment, \n",
            "and management education and research, \n",
            "focusing on Sustainability and Social Impact \n",
            "issues. Our current strategic themed areas \n",
            "are: Climate Change; Smart Communities; \n",
            "Food- Energy-Water; Infrastr ucture; and \n",
            "Technology, Policy and Society. AIT’s rigorous \n",
            "academic, research, and outreach programs \n",
            "prepare graduates for professional success and\n",
            "\n",
            "• Asian Development Bank \n",
            "• Bangchak Corporation Pub Co., Ltd.\n",
            "• Betagro Pub Co., Ltd.\n",
            "• Bill and Melinda Gates Foundation\n",
            "• China Scholarship Council \n",
            "• Computer & Structure Inc.\n",
            "• DeepRock (Vanke), Shenzhen \n",
            "• Dorabot, Shenzhen\n",
            "• ERASMUS+ / European Union\n",
            "• German Academic Exchange Service (DAAD)\n",
            "• Ministry of Foreign Affairs, Government of Japan\n",
            "• National Science and Technology  \n",
            "Development Agency \n",
            "• Royal Thai Government \n",
            "• Siam Cement Group Pub Co., Ltd.\n",
            "• Siam Commercial Bank Pub Co., Ltd.\n",
            "• TEAM Consulting Engineering and  \n",
            "Management Pub Co., Ltd.\n",
            "• Thai Pipe Industry Co., Ltd.\n",
            "• United Nations Economic and Social  \n",
            "Commission for Asia and the Pacific\n",
            "    Question: <pad> What  is  the  Transformers?\n",
            "\n",
            "    Answer:\u001b[0m\n",
            "\n",
            "\u001b[1m> Finished chain.\u001b[0m\n",
            "\n",
            "\u001b[1m> Finished chain.\u001b[0m\n",
            "\n",
            "\u001b[1m> Finished chain.\u001b[0m\n"
          ]
        },
        {
          "data": {
            "text/plain": [
              "{'question': 'What is the Transformers?',\n",
              " 'chat_history': [HumanMessage(content='Who are you by the way?'),\n",
              "  AIMessage(content=\"<pad>  I'm  AITBot,  a  chatbot  designed  to  assist  students  with  any  questions  they  have  about  Asian  Institute  of  Technology.  I'm  here  to  help  you  with  any  questions  you  may  have  about  AIT,  programs  and  courses  it  offers,  or  any  other  related  topic.  Just  let  me  know  what  you're  wondering  about,  and  I'll  do  my  best  to  guide  you  through  it!\\n\")],\n",
              " 'answer': '<pad>  The  Transformers  is  a  popular  animated  television  series  that  aired  on  Cartoon  Network  in  the  United  States  from  2005  to  2013.  The  show  was  created  by  Trey  Parker  and  Matt  Stone,  and  it  was  based  on  the  Marvel  Comics  character  of  the  same  name.  The  Transformers  was  a  popular  franchise  that  lasted  for  several  seasons  and  was  known  for  its  humor,  action,  and  adventure.  The  show  was  known  for  its  humor,  action,  and  adventure,  and  it  was  a  popular  choice  for  young  audiences.  The  Transformers  was  a  popular  franchise  that  lasted  for  several  seasons  and  was  known  for  its  humor,  action,  and  adventure,  and  it  was  a  popular  choice  for  young  audiences.\\n',\n",
              " 'source_documents': [Document(page_content='Regenerative Sanitation \\nSustainable Energy Transition\\nDepartment of Development  \\nand Sustainability\\nDevelopment and Sustainability \\nGender and Development \\nStudies \\nNatural Resources Management \\nDevelopment Planning \\nManagement and Innovation \\nUrban Innovation and \\nSustainability \\nUrban Sustainability Planning \\nand Design \\nSociety and Environmental \\nGovernance \\nDepartment of Civil and \\nInfrastructure Engineering\\nConstruction Engineering and \\nInfrastructure Management \\nGeotechnical and Earth \\nResources Engineering \\nStructural Engineering \\nTransportation Engineering \\nWater Engineering and \\nManagement \\nDepartment of Information \\nand Communication \\nTechnologies \\nComputer Science', metadata={'source': '/content/AIT-BROCHURE.pdf', 'file_path': '/content/AIT-BROCHURE.pdf', 'page': 1, 'total_pages': 2, 'format': 'PDF 1.4', 'title': '', 'author': '', 'subject': '', 'keywords': '', 'creator': 'Adobe InDesign CS5.5 (7.5)', 'producer': 'macOS Version 11.6 (Build 20G165) Quartz PDFContext', 'creationDate': \"D:20211117094024Z00'00'\", 'modDate': \"D:20211117094024Z00'00'\", 'trapped': ''}),\n",
              "  Document(page_content='Management \\nDepartment of Information \\nand Communication \\nTechnologies \\nComputer Science \\nInformation Management \\nInformation and \\nCommunications Technologies \\nTelecommunications \\nRemote Sensing and \\nGeographic Information \\nSystems \\nData Science and Artificial \\nIntelligence \\nInternet of Things (IoT) Systems \\nEngineering\\nDepartment of Industrial \\nSystems Engineering\\nMechatronics\\nMicroelectronics and \\nEmbedded Systems \\nIndustrial and Manufacturing \\nEngineering \\nBio-Nano Materials Science \\nand Engineering\\nBusiness Administration \\nMarketing\\nFinance\\nChange & Innovation\\nBusiness Risk and \\nResilience \\nBusiness Analytics and \\nDigital Transformation \\nInternational Finance\\nBanking and Finance', metadata={'source': '/content/AIT-BROCHURE.pdf', 'file_path': '/content/AIT-BROCHURE.pdf', 'page': 1, 'total_pages': 2, 'format': 'PDF 1.4', 'title': '', 'author': '', 'subject': '', 'keywords': '', 'creator': 'Adobe InDesign CS5.5 (7.5)', 'producer': 'macOS Version 11.6 (Build 20G165) Quartz PDFContext', 'creationDate': \"D:20211117094024Z00'00'\", 'modDate': \"D:20211117094024Z00'00'\", 'trapped': ''}),\n",
              "  Document(page_content='• United Nations Economic and Social  \\nCommission for Asia and the Pacific\\n• United States Agency for International Development \\n• World Bank\\n• and more …\\nP A R T N E R S  \\nA B O U T\\nA I T\\nThe Asian Institute of Technology (AIT) is an \\ninternational English-speaking postgraduate \\ninstitution, providing engineering, environment, \\nand management education and research, \\nfocusing on Sustainability and Social Impact \\nissues. Our current strategic themed areas \\nare: Climate Change; Smart Communities; \\nFood- Energy-Water; Infrastr ucture; and \\nTechnology, Policy and Society. AIT’s rigorous \\nacademic, research, and outreach programs \\nprepare graduates for professional success and', metadata={'source': '/content/AIT-BROCHURE.pdf', 'file_path': '/content/AIT-BROCHURE.pdf', 'page': 1, 'total_pages': 2, 'format': 'PDF 1.4', 'title': '', 'author': '', 'subject': '', 'keywords': '', 'creator': 'Adobe InDesign CS5.5 (7.5)', 'producer': 'macOS Version 11.6 (Build 20G165) Quartz PDFContext', 'creationDate': \"D:20211117094024Z00'00'\", 'modDate': \"D:20211117094024Z00'00'\", 'trapped': ''}),\n",
              "  Document(page_content='• Asian Development Bank \\n• Bangchak Corporation Pub Co., Ltd.\\n• Betagro Pub Co., Ltd.\\n• Bill and Melinda Gates Foundation\\n• China Scholarship Council \\n• Computer & Structure Inc.\\n• DeepRock (Vanke), Shenzhen \\n• Dorabot, Shenzhen\\n• ERASMUS+ / European Union\\n• German Academic Exchange Service (DAAD)\\n• Ministry of Foreign Affairs, Government of Japan\\n• National Science and Technology  \\nDevelopment Agency \\n• Royal Thai Government \\n• Siam Cement Group Pub Co., Ltd.\\n• Siam Commercial Bank Pub Co., Ltd.\\n• TEAM Consulting Engineering and  \\nManagement Pub Co., Ltd.\\n• Thai Pipe Industry Co., Ltd.\\n• United Nations Economic and Social  \\nCommission for Asia and the Pacific', metadata={'source': '/content/AIT-BROCHURE.pdf', 'file_path': '/content/AIT-BROCHURE.pdf', 'page': 1, 'total_pages': 2, 'format': 'PDF 1.4', 'title': '', 'author': '', 'subject': '', 'keywords': '', 'creator': 'Adobe InDesign CS5.5 (7.5)', 'producer': 'macOS Version 11.6 (Build 20G165) Quartz PDFContext', 'creationDate': \"D:20211117094024Z00'00'\", 'modDate': \"D:20211117094024Z00'00'\", 'trapped': ''})]}"
            ]
          },
          "execution_count": 118,
          "metadata": {},
          "output_type": "execute_result"
        }
      ],
      "source": [
        "prompt_question = \"What is the Transformers?\"\n",
        "answer = chain({\"question\":prompt_question})\n",
        "answer"
      ]
    },
    {
      "cell_type": "code",
      "execution_count": 119,
      "metadata": {
        "colab": {
          "base_uri": "https://localhost:8080/"
        },
        "id": "zVQEp_4U97uX",
        "outputId": "79eb8d05-eff0-4d45-bcbe-8bed92095a49"
      },
      "outputs": [
        {
          "name": "stdout",
          "output_type": "stream",
          "text": [
            "\n",
            "\n",
            "\u001b[1m> Entering new ConversationalRetrievalChain chain...\u001b[0m\n",
            "\n",
            "\n",
            "\u001b[1m> Entering new LLMChain chain...\u001b[0m\n",
            "Prompt after formatting:\n",
            "\u001b[32;1m\u001b[1;3mGiven the following conversation and a follow up question, rephrase the follow up question to be a standalone question, in its original language.\n",
            "\n",
            "Chat History:\n",
            "[HumanMessage(content='Who are you by the way?'), AIMessage(content=\"<pad>  I'm  AITBot,  a  chatbot  designed  to  assist  students  with  any  questions  they  have  about  Asian  Institute  of  Technology.  I'm  here  to  help  you  with  any  questions  you  may  have  about  AIT,  programs  and  courses  it  offers,  or  any  other  related  topic.  Just  let  me  know  what  you're  wondering  about,  and  I'll  do  my  best  to  guide  you  through  it!\\n\"), HumanMessage(content='What is the Transformers?'), AIMessage(content='<pad>  The  Transformers  is  a  popular  animated  television  series  that  aired  on  Cartoon  Network  in  the  United  States  from  2005  to  2013.  The  show  was  created  by  Trey  Parker  and  Matt  Stone,  and  it  was  based  on  the  Marvel  Comics  character  of  the  same  name.  The  Transformers  was  a  popular  franchise  that  lasted  for  several  seasons  and  was  known  for  its  humor,  action,  and  adventure.  The  show  was  known  for  its  humor,  action,  and  adventure,  and  it  was  a  popular  choice  for  young  audiences.  The  Transformers  was  a  popular  franchise  that  lasted  for  several  seasons  and  was  known  for  its  humor,  action,  and  adventure,  and  it  was  a  popular  choice  for  young  audiences.\\n')]\n",
            "Follow Up Input: Is it a statistical model?\n",
            "Standalone question:\u001b[0m\n",
            "\n",
            "\u001b[1m> Finished chain.\u001b[0m\n",
            "\n",
            "\n",
            "\u001b[1m> Entering new StuffDocumentsChain chain...\u001b[0m\n",
            "\n",
            "\n",
            "\u001b[1m> Entering new LLMChain chain...\u001b[0m\n",
            "Prompt after formatting:\n",
            "\u001b[32;1m\u001b[1;3mI'm your friendly chatbot named AITBot, here to assist students with any questions they have about Asian Institute of Technology.\n",
            "    If you're curious about AIT, feel free to ask any questions you may have.\n",
            "    Whether it's about AIT,programs and courses it offers, or any other related topic,\n",
            "    I'm here to help you.\n",
            "    Just let me know what you're wondering about, and I'll do my best to guide you through it!\n",
            "    Regenerative Sanitation \n",
            "Sustainable Energy Transition\n",
            "Department of Development  \n",
            "and Sustainability\n",
            "Development and Sustainability \n",
            "Gender and Development \n",
            "Studies \n",
            "Natural Resources Management \n",
            "Development Planning \n",
            "Management and Innovation \n",
            "Urban Innovation and \n",
            "Sustainability \n",
            "Urban Sustainability Planning \n",
            "and Design \n",
            "Society and Environmental \n",
            "Governance \n",
            "Department of Civil and \n",
            "Infrastructure Engineering\n",
            "Construction Engineering and \n",
            "Infrastructure Management \n",
            "Geotechnical and Earth \n",
            "Resources Engineering \n",
            "Structural Engineering \n",
            "Transportation Engineering \n",
            "Water Engineering and \n",
            "Management \n",
            "Department of Information \n",
            "and Communication \n",
            "Technologies \n",
            "Computer Science\n",
            "\n",
            "Business Analytics and \n",
            "Digital Transformation \n",
            "International Finance\n",
            "Banking and Finance \n",
            "Unified Programs \n",
            "Earning two degrees – Bachelor from Partner Univer-\n",
            "sity and Master from AIT, through this ‘fast-track’ and \n",
            "cost-efficient collaborative program, using summer \n",
            "holidays in the study program as inter-semester. Stu-\n",
            "dents have an opportunity to work on a Bachelor’s \n",
            "Degree Final-Year Project at AIT, thereby saving at \n",
            "least one semester of study to obtain two degrees. \n",
            "Capacity-Building PhD Partnership \n",
            "Programs\n",
            "Providing human resource capacity development \n",
            "for non-PhD faculty and staff of other partner higher \n",
            "education institutions, enhancing institutional ca-\n",
            "\n",
            "STRONG FOCUS\n",
            "on research and interactive studies in \n",
            "sustainability areas\n",
            "HANDS-ON\n",
            "experiential learning and real-world \n",
            "application through exchanges, \n",
            "internships, service learning, and \n",
            "entrepreneurship\n",
            "PERSONAL\n",
            "attention by faculty and staff to students \n",
            "who are the institute’s highest priority\n",
            "ACCESS\n",
            "to experienced business executives, \n",
            "enterprises, NGOs and governments  \n",
            "in Asia\n",
            "NETWORK\n",
            "of internationally recognized  \n",
            "partner universities\n",
            "CONNECTION\n",
            "to over 25,000 postgraduate level alumni \n",
            "from 100+ countries\n",
            "M s .  X i a o m i n g  Ta o \n",
            "(Class of 2014)\n",
            "Current Position \n",
            "Project Manager, DFMT Consulting Co, China\n",
            "Studying at AIT was a unique and enjoy-\n",
            "\n",
            "• United Nations Economic and Social  \n",
            "Commission for Asia and the Pacific\n",
            "• United States Agency for International Development \n",
            "• World Bank\n",
            "• and more …\n",
            "P A R T N E R S  \n",
            "A B O U T\n",
            "A I T\n",
            "The Asian Institute of Technology (AIT) is an \n",
            "international English-speaking postgraduate \n",
            "institution, providing engineering, environment, \n",
            "and management education and research, \n",
            "focusing on Sustainability and Social Impact \n",
            "issues. Our current strategic themed areas \n",
            "are: Climate Change; Smart Communities; \n",
            "Food- Energy-Water; Infrastr ucture; and \n",
            "Technology, Policy and Society. AIT’s rigorous \n",
            "academic, research, and outreach programs \n",
            "prepare graduates for professional success and\n",
            "    Question: <pad> Is  the  Transformers  a  statistical  model?\n",
            "\n",
            "    Answer:\u001b[0m\n",
            "\n",
            "\u001b[1m> Finished chain.\u001b[0m\n",
            "\n",
            "\u001b[1m> Finished chain.\u001b[0m\n",
            "\n",
            "\u001b[1m> Finished chain.\u001b[0m\n"
          ]
        },
        {
          "data": {
            "text/plain": [
              "{'question': 'Is it a statistical model?',\n",
              " 'chat_history': [HumanMessage(content='Who are you by the way?'),\n",
              "  AIMessage(content=\"<pad>  I'm  AITBot,  a  chatbot  designed  to  assist  students  with  any  questions  they  have  about  Asian  Institute  of  Technology.  I'm  here  to  help  you  with  any  questions  you  may  have  about  AIT,  programs  and  courses  it  offers,  or  any  other  related  topic.  Just  let  me  know  what  you're  wondering  about,  and  I'll  do  my  best  to  guide  you  through  it!\\n\"),\n",
              "  HumanMessage(content='What is the Transformers?'),\n",
              "  AIMessage(content='<pad>  The  Transformers  is  a  popular  animated  television  series  that  aired  on  Cartoon  Network  in  the  United  States  from  2005  to  2013.  The  show  was  created  by  Trey  Parker  and  Matt  Stone,  and  it  was  based  on  the  Marvel  Comics  character  of  the  same  name.  The  Transformers  was  a  popular  franchise  that  lasted  for  several  seasons  and  was  known  for  its  humor,  action,  and  adventure.  The  show  was  known  for  its  humor,  action,  and  adventure,  and  it  was  a  popular  choice  for  young  audiences.  The  Transformers  was  a  popular  franchise  that  lasted  for  several  seasons  and  was  known  for  its  humor,  action,  and  adventure,  and  it  was  a  popular  choice  for  young  audiences.\\n')],\n",
              " 'answer': '<pad>  No,  the  Transformers  are  a  fictional  superhero  team  in  the  Marvel  Cinematic  Universe.  They  are  a  team  of  superheroes  who  are  portrayed  by  actors  and  actresses  and  are  known  for  their  unique  abilities  and  abilities.  The  Transformers  are  a  fictional  team  that  is  not  a  real  team  and  is  not  a  part  of  the  Marvel  Cinematic  Universe.\\n',\n",
              " 'source_documents': [Document(page_content='Regenerative Sanitation \\nSustainable Energy Transition\\nDepartment of Development  \\nand Sustainability\\nDevelopment and Sustainability \\nGender and Development \\nStudies \\nNatural Resources Management \\nDevelopment Planning \\nManagement and Innovation \\nUrban Innovation and \\nSustainability \\nUrban Sustainability Planning \\nand Design \\nSociety and Environmental \\nGovernance \\nDepartment of Civil and \\nInfrastructure Engineering\\nConstruction Engineering and \\nInfrastructure Management \\nGeotechnical and Earth \\nResources Engineering \\nStructural Engineering \\nTransportation Engineering \\nWater Engineering and \\nManagement \\nDepartment of Information \\nand Communication \\nTechnologies \\nComputer Science', metadata={'source': '/content/AIT-BROCHURE.pdf', 'file_path': '/content/AIT-BROCHURE.pdf', 'page': 1, 'total_pages': 2, 'format': 'PDF 1.4', 'title': '', 'author': '', 'subject': '', 'keywords': '', 'creator': 'Adobe InDesign CS5.5 (7.5)', 'producer': 'macOS Version 11.6 (Build 20G165) Quartz PDFContext', 'creationDate': \"D:20211117094024Z00'00'\", 'modDate': \"D:20211117094024Z00'00'\", 'trapped': ''}),\n",
              "  Document(page_content='Business Analytics and \\nDigital Transformation \\nInternational Finance\\nBanking and Finance \\nUnified Programs \\nEarning two degrees – Bachelor from Partner Univer-\\nsity and Master from AIT, through this ‘fast-track’ and \\ncost-efficient collaborative program, using summer \\nholidays in the study program as inter-semester. Stu-\\ndents have an opportunity to work on a Bachelor’s \\nDegree Final-Year Project at AIT, thereby saving at \\nleast one semester of study to obtain two degrees. \\nCapacity-Building PhD Partnership \\nPrograms\\nProviding human resource capacity development \\nfor non-PhD faculty and staff of other partner higher \\neducation institutions, enhancing institutional ca-', metadata={'source': '/content/AIT-BROCHURE.pdf', 'file_path': '/content/AIT-BROCHURE.pdf', 'page': 1, 'total_pages': 2, 'format': 'PDF 1.4', 'title': '', 'author': '', 'subject': '', 'keywords': '', 'creator': 'Adobe InDesign CS5.5 (7.5)', 'producer': 'macOS Version 11.6 (Build 20G165) Quartz PDFContext', 'creationDate': \"D:20211117094024Z00'00'\", 'modDate': \"D:20211117094024Z00'00'\", 'trapped': ''}),\n",
              "  Document(page_content='STRONG FOCUS\\non research and interactive studies in \\nsustainability areas\\nHANDS-ON\\nexperiential learning and real-world \\napplication through exchanges, \\ninternships, service learning, and \\nentrepreneurship\\nPERSONAL\\nattention by faculty and staff to students \\nwho are the institute’s highest priority\\nACCESS\\nto experienced business executives, \\nenterprises, NGOs and governments  \\nin Asia\\nNETWORK\\nof internationally recognized  \\npartner universities\\nCONNECTION\\nto over 25,000 postgraduate level alumni \\nfrom 100+ countries\\nM s .  X i a o m i n g  Ta o \\n(Class of 2014)\\nCurrent Position \\nProject Manager, DFMT Consulting Co, China\\nStudying at AIT was a unique and enjoy-', metadata={'source': '/content/AIT-BROCHURE.pdf', 'file_path': '/content/AIT-BROCHURE.pdf', 'page': 0, 'total_pages': 2, 'format': 'PDF 1.4', 'title': '', 'author': '', 'subject': '', 'keywords': '', 'creator': 'Adobe InDesign CS5.5 (7.5)', 'producer': 'macOS Version 11.6 (Build 20G165) Quartz PDFContext', 'creationDate': \"D:20211117094024Z00'00'\", 'modDate': \"D:20211117094024Z00'00'\", 'trapped': ''}),\n",
              "  Document(page_content='• United Nations Economic and Social  \\nCommission for Asia and the Pacific\\n• United States Agency for International Development \\n• World Bank\\n• and more …\\nP A R T N E R S  \\nA B O U T\\nA I T\\nThe Asian Institute of Technology (AIT) is an \\ninternational English-speaking postgraduate \\ninstitution, providing engineering, environment, \\nand management education and research, \\nfocusing on Sustainability and Social Impact \\nissues. Our current strategic themed areas \\nare: Climate Change; Smart Communities; \\nFood- Energy-Water; Infrastr ucture; and \\nTechnology, Policy and Society. AIT’s rigorous \\nacademic, research, and outreach programs \\nprepare graduates for professional success and', metadata={'source': '/content/AIT-BROCHURE.pdf', 'file_path': '/content/AIT-BROCHURE.pdf', 'page': 1, 'total_pages': 2, 'format': 'PDF 1.4', 'title': '', 'author': '', 'subject': '', 'keywords': '', 'creator': 'Adobe InDesign CS5.5 (7.5)', 'producer': 'macOS Version 11.6 (Build 20G165) Quartz PDFContext', 'creationDate': \"D:20211117094024Z00'00'\", 'modDate': \"D:20211117094024Z00'00'\", 'trapped': ''})]}"
            ]
          },
          "execution_count": 119,
          "metadata": {},
          "output_type": "execute_result"
        }
      ],
      "source": [
        "prompt_question = \"Is it a statistical model?\"\n",
        "answer = chain({\"question\":prompt_question})\n",
        "answer"
      ]
    },
    {
      "cell_type": "markdown",
      "metadata": {},
      "source": [
        "## Task 2"
      ]
    },
    {
      "cell_type": "markdown",
      "metadata": {},
      "source": [
        "- Analyze the model’s performance in retrieving information. (2 points)\n",
        "- Address any issues related to the model providing unrelated information. (2 points)"
      ]
    },
    {
      "cell_type": "markdown",
      "metadata": {},
      "source": [
        "# Analyze the model’s performance in retrieving information.\n",
        "\n",
        "Based on the output given above by the AIT-Bot, I got the following observations:\n",
        "In the prompts, the AITBot doesn't have enough information to give a tailored result. \n",
        "\n",
        "Here, In the first prompt, who are you?(which is a relevant question) It's retrieving the names of the people mentioned in the pdf document that i used for it. This kindof makes sense given that it collects the names of people and places that could be a relevant answer to identifying something. It is somewhat better compared to the next two irrelavant prompts.\n",
        "\n",
        "For the next two prompts which is quite irrelevant and ambiguous query in this case, It isn't giving relevant results. One thing that I observed it that it gave the names of the programs and courses offered in AIT but it didn't list the names of the people like in first prompt. \n",
        "\n",
        "I got to know that when presented with ambiguous or poorly formulated queries/questions, the model may struggle to provide accurate responses. Additionally, its responses might vary in accuracy depending on the complexity of the topic or the specificity of the information requested. In such cases, further refinement of the model's training data and fine-tuning of its algorithms could potentially enhance its performance."
      ]
    },
    {
      "cell_type": "markdown",
      "metadata": {},
      "source": [
        "## - Address any issues related to the model providing unrelated information. (2 points)"
      ]
    },
    {
      "cell_type": "markdown",
      "metadata": {},
      "source": [
        "We need to provide clear and specific queries to the model, enabling it to focus its attention on relevant information. Moreover, post-processing techniques such as filtering and ranking can be employed to identify and discard irrelevant responses."
      ]
    },
    {
      "cell_type": "code",
      "execution_count": null,
      "metadata": {},
      "outputs": [],
      "source": []
    },
    {
      "cell_type": "code",
      "execution_count": null,
      "metadata": {},
      "outputs": [],
      "source": []
    }
  ],
  "metadata": {
    "accelerator": "GPU",
    "colab": {
      "gpuType": "T4",
      "provenance": []
    },
    "kernelspec": {
      "display_name": "Python 3",
      "name": "python3"
    },
    "language_info": {
      "codemirror_mode": {
        "name": "ipython",
        "version": 3
      },
      "file_extension": ".py",
      "mimetype": "text/x-python",
      "name": "python",
      "nbconvert_exporter": "python",
      "pygments_lexer": "ipython3",
      "version": "3.12.1"
    }
  },
  "nbformat": 4,
  "nbformat_minor": 0
}
